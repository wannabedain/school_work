{
  "nbformat": 4,
  "nbformat_minor": 0,
  "metadata": {
    "colab": {
      "provenance": []
    },
    "kernelspec": {
      "name": "python3",
      "display_name": "Python 3"
    },
    "language_info": {
      "name": "python"
    }
  },
  "cells": [
    {
      "cell_type": "code",
      "execution_count": null,
      "metadata": {
        "id": "cEL4V1yao_QK"
      },
      "outputs": [],
      "source": [
        "import re"
      ]
    },
    {
      "cell_type": "code",
      "source": [
        "# 텍스트 앞에서 apple 찾기\n",
        "re.findall(r'apple', \"I have an apple but you don't have apple\")"
      ],
      "metadata": {
        "colab": {
          "base_uri": "https://localhost:8080/"
        },
        "id": "hU1SSCAlpIpK",
        "outputId": "60021255-7b85-46a5-e6ef-b1380743c782"
      },
      "execution_count": null,
      "outputs": [
        {
          "output_type": "execute_result",
          "data": {
            "text/plain": [
              "['apple', 'apple']"
            ]
          },
          "metadata": {},
          "execution_count": 5
        }
      ]
    },
    {
      "cell_type": "code",
      "source": [
        "# 텍스트에 영문자 't가 몇 번 나오는지 알아보기 \n",
        "re.findall(r't', \"I have an apple but you don't have apple\")"
      ],
      "metadata": {
        "colab": {
          "base_uri": "https://localhost:8080/"
        },
        "id": "6d9P7z4ipMMn",
        "outputId": "99dec38d-f302-4528-8b51-d251e46208a3"
      },
      "execution_count": null,
      "outputs": [
        {
          "output_type": "execute_result",
          "data": {
            "text/plain": [
              "['t', 't']"
            ]
          },
          "metadata": {},
          "execution_count": 6
        }
      ]
    },
    {
      "cell_type": "code",
      "source": [
        "# .은 1개의 문자\n",
        "print(re.findall(r'a.c', 'abc auc axxc'))\n",
        "\n",
        "# ?은 앞의 문자가 0 or 1개\n",
        "print(re.findall(r'ab?c', 'ac abc auc axxc'))\n",
        "\n",
        "# *은 앞의 문자가 0번 이상 발생\n",
        "print(re.findall(r'ax*c', 'ac abc auc axxc'))\n",
        "\n",
        "# +은 앞의 문자가 1번 이상 발생\n",
        "print(re.findall(r'ax+c', 'ac abc auc axxc'))"
      ],
      "metadata": {
        "colab": {
          "base_uri": "https://localhost:8080/"
        },
        "id": "Ro0IuDmQpXCW",
        "outputId": "49bb7a69-60c6-4a23-f722-9e54baa22ad8"
      },
      "execution_count": null,
      "outputs": [
        {
          "output_type": "stream",
          "name": "stdout",
          "text": [
            "['abc', 'auc']\n",
            "['ac', 'abc']\n",
            "['ac', 'axxc']\n",
            "['axxc']\n"
          ]
        }
      ]
    },
    {
      "cell_type": "code",
      "source": [
        "# 1과 3 사이에 1개의 문자가 나오는 경우의 수\n",
        "print(re.findall(r'1.3', '13 123 143 193 1993 1423 1ab3'))\n",
        "\n",
        "# 1과 3 사이에 1개 이상의 9가 나오는경우의 수 (9이외의 다른 문자는 불가)\n",
        "print(re.findall(r'19+3','13 123 143 193 1993 1423 1ab3'))"
      ],
      "metadata": {
        "colab": {
          "base_uri": "https://localhost:8080/"
        },
        "id": "ukwp8QuZqEtm",
        "outputId": "d43dc94a-5746-42ad-d5e1-8401cd8994df"
      },
      "execution_count": null,
      "outputs": [
        {
          "output_type": "stream",
          "name": "stdout",
          "text": [
            "['123', '143', '193']\n",
            "['193', '1993']\n"
          ]
        }
      ]
    },
    {
      "cell_type": "code",
      "source": [
        "## 18p\n",
        "# a와 c 사이에 0 또는 2가 나오는 경우 수\n",
        "print(re.findall(r'a[02]c', 'ac a0c a1c a7c abc'))\n",
        "\n",
        "# a와 c 사이에 숫자가 나오는 경우의 수\n",
        "print(re.findall(r'a[0-9]c', 'ac a0c a1c a7c abc'))"
      ],
      "metadata": {
        "colab": {
          "base_uri": "https://localhost:8080/"
        },
        "id": "1OqR8AEWqhhs",
        "outputId": "91e847be-7458-49a6-d167-b64bb3dd0388"
      },
      "execution_count": null,
      "outputs": [
        {
          "output_type": "stream",
          "name": "stdout",
          "text": [
            "['a0c']\n",
            "['a0c', 'a1c', 'a7c']\n"
          ]
        }
      ]
    },
    {
      "cell_type": "code",
      "source": [
        "##19p\n",
        "# 메타문자\n",
        "re.findall(r'\"[^\"]*\"', '\"aa\" bb cc \"dd\"')   # \"\" 안에 있는 문자를 가져와보자"
      ],
      "metadata": {
        "colab": {
          "base_uri": "https://localhost:8080/"
        },
        "id": "1lcNXZx6rTSE",
        "outputId": "26a9ca67-9694-47c3-afa3-d6aac0a29fe6"
      },
      "execution_count": null,
      "outputs": [
        {
          "output_type": "execute_result",
          "data": {
            "text/plain": [
              "['\"aa\"', '\"dd\"']"
            ]
          },
          "metadata": {},
          "execution_count": 10
        }
      ]
    },
    {
      "cell_type": "code",
      "source": [
        "re.findall(r'\"([^\"]*)\"', '\"aa\" bb cc \"dd\"') "
      ],
      "metadata": {
        "colab": {
          "base_uri": "https://localhost:8080/"
        },
        "id": "G5yHewcpu6AK",
        "outputId": "ef0fb65a-7409-4755-9992-99f565e6b222"
      },
      "execution_count": null,
      "outputs": [
        {
          "output_type": "execute_result",
          "data": {
            "text/plain": [
              "['aa', 'dd']"
            ]
          },
          "metadata": {},
          "execution_count": 11
        }
      ]
    },
    {
      "cell_type": "code",
      "source": [
        "## 23p\n",
        "#[와 ] 사이에 있는 문자들을 추출해보자\n",
        "\n",
        "re.findall(r'\\[([^\\[\\]]*)\\]', '\"Two books, [Harry Potter] and [Load of the Rings] are popular worldwide.\"')"
      ],
      "metadata": {
        "colab": {
          "base_uri": "https://localhost:8080/"
        },
        "id": "kRs5NccJu95Q",
        "outputId": "6f95ea7d-00d2-4d50-910c-3aca927d925b"
      },
      "execution_count": null,
      "outputs": [
        {
          "output_type": "execute_result",
          "data": {
            "text/plain": [
              "['Harry Potter', 'Load of the Rings']"
            ]
          },
          "metadata": {},
          "execution_count": 12
        }
      ]
    },
    {
      "cell_type": "code",
      "source": [
        "import nltk\n",
        "nltk.download('omw-1.4')\n",
        "nltk.download('punkt')\n",
        "nltk.download('wordnet')\n",
        "nltk.download('stopwords')\n",
        "text = \"Text messaging, or texting, is the act of composing and sending brief, electronic messages between two or more mobile phones, or fixed or portable devices over a phone network.\"\n",
        "print(text)"
      ],
      "metadata": {
        "colab": {
          "base_uri": "https://localhost:8080/"
        },
        "id": "ItR6PJAPurDZ",
        "outputId": "03f5d890-81a2-4f8b-833d-c3e791bfb5a8"
      },
      "execution_count": null,
      "outputs": [
        {
          "output_type": "stream",
          "name": "stdout",
          "text": [
            "Text messaging, or texting, is the act of composing and sending brief, electronic messages between two or more mobile phones, or fixed or portable devices over a phone network.\n"
          ]
        },
        {
          "output_type": "stream",
          "name": "stderr",
          "text": [
            "[nltk_data] Downloading package omw-1.4 to /root/nltk_data...\n",
            "[nltk_data]   Package omw-1.4 is already up-to-date!\n",
            "[nltk_data] Downloading package punkt to /root/nltk_data...\n",
            "[nltk_data]   Package punkt is already up-to-date!\n",
            "[nltk_data] Downloading package wordnet to /root/nltk_data...\n",
            "[nltk_data]   Package wordnet is already up-to-date!\n",
            "[nltk_data] Downloading package stopwords to /root/nltk_data...\n",
            "[nltk_data]   Package stopwords is already up-to-date!\n"
          ]
        }
      ]
    },
    {
      "cell_type": "code",
      "source": [
        "## 34p\n",
        "\n",
        "import nltk\n",
        "from nltk.corpus import stopwords\n",
        "import re\n",
        "stopwords_en = stopwords.words('english')\n",
        "\n",
        "text = \"Big data is a field that treats ways to analyze, systematically extract information from, or otherwise deal with data sets that are too large or complex to be dealt with by traditional data-processing application software.\"\n",
        "print(text)\n",
        "\n",
        "text = text.lower()  #소문자\n",
        "tokens = nltk.word_tokenize(text)  #토큰화\n",
        "lemmatizer = nltk.stem.WordNetLemmatizer()    #표제어 추출\n",
        "tokens = [lemmatizer.lemmatize(t) for t in tokens]   \n",
        "tokens = [t for t in tokens if t not in stopwords_en]    # 불용어 제거\n",
        "tokens = [t for t in tokens if re.fullmatch('[a-z_-]+', t)]     # 정규표현식 : 소문자랑 _랑 -만 고려함\n",
        "print(tokens)"
      ],
      "metadata": {
        "colab": {
          "base_uri": "https://localhost:8080/"
        },
        "id": "BwrCd-HYvsfy",
        "outputId": "e201987d-c3a1-44c6-c72e-8a2a01ca351d"
      },
      "execution_count": null,
      "outputs": [
        {
          "output_type": "stream",
          "name": "stdout",
          "text": [
            "Big data is a field that treats ways to analyze, systematically extract information from, or otherwise deal with data sets that are too large or complex to be dealt with by traditional data-processing application software.\n",
            "['big', 'data', 'field', 'treat', 'way', 'analyze', 'systematically', 'extract', 'information', 'otherwise', 'deal', 'data', 'set', 'large', 'complex', 'dealt', 'traditional', 'data-processing', 'application', 'software']\n"
          ]
        }
      ]
    },
    {
      "cell_type": "code",
      "source": [
        "## 36p\n",
        "#표제어 추출을 어간추출로 대체함\n",
        "\n",
        "import nltk\n",
        "from nltk.corpus import stopwords\n",
        "import re\n",
        "stopwords_en = stopwords.words('english')\n",
        "\n",
        "text = \"Text messaging, or texting, is the act of composing and sending brief, electronic messages between two or more mobile phones, or fixed or portable devices over a phone network.\"\n",
        "print(text)\n",
        "\n",
        "text = text.lower()\n",
        "tokens = nltk.word_tokenize(text)\n",
        "porter = nltk.PorterStemmer()                             # 표제어 추출 대신 어간 추출 사용\n",
        "tokens = [porter.stem(t) for t in tokens]                 # 표제어 추출 대신 어간 추출 사용\n",
        "tokens = [t for t in tokens if t not in stopwords_en]\n",
        "tokens = [t for t in tokens if re.fullmatch('[a-z_]+', t)]\n",
        "print(tokens)"
      ],
      "metadata": {
        "colab": {
          "base_uri": "https://localhost:8080/"
        },
        "id": "-6ft6x4JwalH",
        "outputId": "e9140ab8-df1f-47d4-ade4-401bc39160d6"
      },
      "execution_count": null,
      "outputs": [
        {
          "output_type": "stream",
          "name": "stdout",
          "text": [
            "Text messaging, or texting, is the act of composing and sending brief, electronic messages between two or more mobile phones, or fixed or portable devices over a phone network.\n",
            "['text', 'messag', 'text', 'act', 'compos', 'send', 'brief', 'electron', 'messag', 'two', 'mobil', 'phone', 'fix', 'portabl', 'devic', 'phone', 'network']\n"
          ]
        }
      ]
    },
    {
      "cell_type": "markdown",
      "source": [
        "# **한국어**"
      ],
      "metadata": {
        "id": "TurLRYHBxWvx"
      }
    },
    {
      "cell_type": "code",
      "source": [
        "# !pip install konlpy"
      ],
      "metadata": {
        "id": "LQZQjurQyE72"
      },
      "execution_count": null,
      "outputs": []
    },
    {
      "cell_type": "code",
      "source": [
        "from konlpy.tag import Komoran\n",
        "komoran = Komoran()\n",
        "text = '하지만 빅데이터의 문제점은 바로 사생활 침해와 보안 측면에 자리하고 있다.'\n",
        "komoran.pos(text)"
      ],
      "metadata": {
        "colab": {
          "base_uri": "https://localhost:8080/"
        },
        "id": "Jw4zFLb3xX2c",
        "outputId": "79fc615b-fd77-4502-95fd-854e7a072da3"
      },
      "execution_count": null,
      "outputs": [
        {
          "output_type": "execute_result",
          "data": {
            "text/plain": [
              "[('하지만', 'MAJ'),\n",
              " ('빅', 'NNG'),\n",
              " ('데이터', 'NNG'),\n",
              " ('의', 'JKG'),\n",
              " ('문제점', 'NNG'),\n",
              " ('은', 'JX'),\n",
              " ('바로', 'MAG'),\n",
              " ('사생활 침해', 'NNP'),\n",
              " ('와', 'JC'),\n",
              " ('보안', 'NNP'),\n",
              " ('측면', 'NNG'),\n",
              " ('에', 'JKB'),\n",
              " ('자리', 'NNG'),\n",
              " ('하', 'XSV'),\n",
              " ('고', 'EC'),\n",
              " ('있', 'VX'),\n",
              " ('다', 'EF'),\n",
              " ('.', 'SF')]"
            ]
          },
          "metadata": {},
          "execution_count": 17
        }
      ]
    },
    {
      "cell_type": "code",
      "source": [
        "komoran.nouns(text)"
      ],
      "metadata": {
        "colab": {
          "base_uri": "https://localhost:8080/"
        },
        "id": "kQO6tFVKyMBC",
        "outputId": "074e3e52-3848-4377-aeed-d5004edde4ba"
      },
      "execution_count": null,
      "outputs": [
        {
          "output_type": "execute_result",
          "data": {
            "text/plain": [
              "['빅', '데이터', '문제점', '사생활 침해', '보안', '측면', '자리']"
            ]
          },
          "metadata": {},
          "execution_count": 18
        }
      ]
    },
    {
      "cell_type": "markdown",
      "source": [
        "# 워드 클라우드"
      ],
      "metadata": {
        "id": "YPU7jmurz1Q1"
      }
    },
    {
      "cell_type": "code",
      "source": [
        "# !pip install wordcloud"
      ],
      "metadata": {
        "id": "aiuur6MWyMlf"
      },
      "execution_count": null,
      "outputs": []
    },
    {
      "cell_type": "code",
      "source": [
        "import matplotlib.pyplot as plt\n",
        "from wordcloud import WordCloud\n",
        "\n",
        "text = \"Text messaging, or texting, is the act of composing and sending brief, electronic messages between two or more mobile phones, or fixed or portable devices over a phone network.\"\n",
        "\n",
        "wc = WordCloud(background_color=\"white\", max_font_size=50, max_words=5).generate(text)\n",
        "plt.imshow(wc)\n",
        "plt.axis(\"off\")\n",
        "plt.show()\n"
      ],
      "metadata": {
        "colab": {
          "base_uri": "https://localhost:8080/",
          "height": 198
        },
        "id": "fpyyTm3iyaA1",
        "outputId": "b338a7cd-e7e5-46f7-94cd-4e85ed0df3a0"
      },
      "execution_count": null,
      "outputs": [
        {
          "output_type": "display_data",
          "data": {
            "text/plain": [
              "<Figure size 432x288 with 1 Axes>"
            ],
            "image/png": "[encoded data removed]"
          },
          "metadata": {
            "needs_background": "light"
          }
        }
      ]
    },
    {
      "cell_type": "code",
      "source": [
        "# 전처리 후 워드클라우드 만들기\n",
        "\n",
        "import nltk\n",
        "from nltk.corpus import stopwords\n",
        "import re\n",
        "\n",
        "nltk.download('punkt')\n",
        "nltk.download('wordnet')\n",
        "nltk.download('stopwords')\n",
        "stopwords_en = stopwords.words('english')\n",
        "\n",
        "text = \"Text messaging, or texting, is the act of composing and sending brief, electronic messages between two or more mobile phones, or fixed or portable devices over a phone network.\"\n",
        "print(text)\n",
        "\n",
        "text = text.lower()  #소문자\n",
        "tokens = nltk.word_tokenize(text)  #토큰화\n",
        "lemmatizer = nltk.stem.WordNetLemmatizer()    #표제어 추출\n",
        "tokens = [lemmatizer.lemmatize(t) for t in tokens]   \n",
        "tokens = [t for t in tokens if t not in stopwords_en]    # 불용어 제거\n",
        "tokens = [t for t in tokens if re.fullmatch('[a-z_-]+', t)]     # 정규표현식 : 소문자랑 _랑 -만 고려함\n",
        "print(tokens)\n",
        "\n",
        "wc = WordCloud().generate(' '.join(tokens))\n",
        "plt.imshow(wc)\n",
        "plt.axis(\"off\")\n",
        "plt.show()"
      ],
      "metadata": {
        "colab": {
          "base_uri": "https://localhost:8080/",
          "height": 345
        },
        "id": "1o7Zxlrryjyo",
        "outputId": "c6ba1cb6-b537-499c-f395-c21aba5dd939"
      },
      "execution_count": null,
      "outputs": [
        {
          "output_type": "stream",
          "name": "stderr",
          "text": [
            "[nltk_data] Downloading package punkt to /root/nltk_data...\n",
            "[nltk_data]   Package punkt is already up-to-date!\n",
            "[nltk_data] Downloading package wordnet to /root/nltk_data...\n",
            "[nltk_data]   Package wordnet is already up-to-date!\n",
            "[nltk_data] Downloading package stopwords to /root/nltk_data...\n",
            "[nltk_data]   Package stopwords is already up-to-date!\n"
          ]
        },
        {
          "output_type": "stream",
          "name": "stdout",
          "text": [
            "Text messaging, or texting, is the act of composing and sending brief, electronic messages between two or more mobile phones, or fixed or portable devices over a phone network.\n",
            "['text', 'messaging', 'texting', 'act', 'composing', 'sending', 'brief', 'electronic', 'message', 'two', 'mobile', 'phone', 'fixed', 'portable', 'device', 'phone', 'network']\n"
          ]
        },
        {
          "output_type": "display_data",
          "data": {
            "text/plain": [
              "<Figure size 432x288 with 1 Axes>"
            ],
            "image/png": "[encoded data removed]"
          },
          "metadata": {
            "needs_background": "light"
          }
        }
      ]
    },
    {
      "cell_type": "code",
      "source": [
        "text = \"Big data is a field that treats ways to analyze, systematically extract information from, or otherwise deal with data sets that are too large or complex to be dealt with by traditional data-processing application software.\"\n",
        "wc = WordCloud(background_color=\"white\").generate(text)\n",
        "plt.imshow(wc)\n",
        "plt.axis(\"off\")\n",
        "plt.show()"
      ],
      "metadata": {
        "colab": {
          "base_uri": "https://localhost:8080/",
          "height": 198
        },
        "id": "3hBYWRBJzjkz",
        "outputId": "f324bab3-bf78-41f0-f787-2729ebb79a1c"
      },
      "execution_count": null,
      "outputs": [
        {
          "output_type": "display_data",
          "data": {
            "text/plain": [
              "<Figure size 432x288 with 1 Axes>"
            ],
            "image/png": "[encoded data removed]"
          },
          "metadata": {
            "needs_background": "light"
          }
        }
      ]
    },
    {
      "cell_type": "code",
      "source": [
        "!apt install fonts-nanum\n",
        "!ls /usr/share/fonts/truetype/nanum/"
      ],
      "metadata": {
        "colab": {
          "base_uri": "https://localhost:8080/"
        },
        "id": "r8mtPYZrz9CH",
        "outputId": "11dada29-68ae-4f07-aee2-e639bd641717"
      },
      "execution_count": null,
      "outputs": [
        {
          "output_type": "stream",
          "name": "stdout",
          "text": [
            "Reading package lists... Done\n",
            "Building dependency tree       \n",
            "Reading state information... Done\n",
            "fonts-nanum is already the newest version (20170925-1).\n",
            "The following package was automatically installed and is no longer required:\n",
            "  libnvidia-common-460\n",
            "Use 'apt autoremove' to remove it.\n",
            "0 upgraded, 0 newly installed, 0 to remove and 49 not upgraded.\n",
            "NanumBarunGothicBold.ttf  NanumMyeongjoBold.ttf  NanumSquareRoundR.ttf\n",
            "NanumBarunGothic.ttf\t  NanumMyeongjo.ttf\t NanumSquareR.ttf\n",
            "NanumGothicBold.ttf\t  NanumSquareB.ttf\n",
            "NanumGothic.ttf\t\t  NanumSquareRoundB.ttf\n"
          ]
        }
      ]
    },
    {
      "cell_type": "code",
      "source": [
        "text = \"하지만 빅데이터의 문제점은 바로 사생활 침해와 보안 측면에 자리하고 있다. 빅데이터는 수많은 개인들의 수많은 정보의 집합이다. 그렇기에 빅데이터를 수집, 분석할 때에 개인\"\n",
        "\n",
        "# 한국어 전처리\n",
        "from konlpy.tag import Komoran\n",
        "komoran = Komoran()\n",
        "nouns = komoran.nouns(text)\n",
        "\n",
        "\n",
        "# 워드클라우드\n",
        "wc = WordCloud(font_path='/usr/share/fonts/truetype/nanum/NanumGothic.ttf').generate(text)\n",
        "plt.imshow(wc)\n",
        "plt.axis(\"off\")\n",
        "plt.show()"
      ],
      "metadata": {
        "colab": {
          "base_uri": "https://localhost:8080/",
          "height": 198
        },
        "id": "oJ8z8_2L0XFi",
        "outputId": "37284eef-7e28-4a2c-894f-4f6a015e1596"
      },
      "execution_count": null,
      "outputs": [
        {
          "output_type": "display_data",
          "data": {
            "text/plain": [
              "<Figure size 432x288 with 1 Axes>"
            ],
            "image/png": "[encoded data removed]"
          },
          "metadata": {
            "needs_background": "light"
          }
        }
      ]
    },
    {
      "cell_type": "markdown",
      "source": [
        "# 문서단어행렬"
      ],
      "metadata": {
        "id": "qEzzAQuv1SGV"
      }
    },
    {
      "cell_type": "code",
      "source": [
        "from sklearn.feature_extraction.text import CountVectorizer\n",
        "\n",
        "documents = ['먹고 싶은 사과', '먹고 싶은 바나나', '길고 노란 바나나 바나나', '저는 과일이 좋아요']\n",
        "\n",
        "count_vectorizer = CountVectorizer()\n",
        "feat_vect = count_vectorizer.fit_transform(documents)\n",
        "feature_names = count_vectorizer.get_feature_names_out()\n",
        "print('단어 목록:', feature_names)\n",
        "print('문서단어행렬 모양 (문서의 수, 단어의 수):', feat_vect.shape)\n",
        "print(feat_vect.toarray())"
      ],
      "metadata": {
        "colab": {
          "base_uri": "https://localhost:8080/"
        },
        "id": "8vvGMy_W0eZD",
        "outputId": "4ba7d4d0-d7e2-4ce3-ea0e-d0547dbdc08a"
      },
      "execution_count": null,
      "outputs": [
        {
          "output_type": "stream",
          "name": "stdout",
          "text": [
            "단어 목록: ['과일이' '길고' '노란' '먹고' '바나나' '사과' '싶은' '저는' '좋아요']\n",
            "문서단어행렬 모양 (문서의 수, 단어의 수): (4, 9)\n",
            "[[0 0 0 1 0 1 1 0 0]\n",
            " [0 0 0 1 1 0 1 0 0]\n",
            " [0 1 1 0 2 0 0 0 0]\n",
            " [1 0 0 0 0 0 0 1 1]]\n"
          ]
        }
      ]
    },
    {
      "cell_type": "markdown",
      "source": [
        "# 토픽 모델링(한국어)"
      ],
      "metadata": {
        "id": "vjCnRYO61glz"
      }
    },
    {
      "cell_type": "code",
      "source": [
        "## 76p\n",
        "\n",
        "# 모듈 불러오기\n",
        "from sklearn.feature_extraction.text import CountVectorizer\n",
        "from sklearn.decomposition import LatentDirichletAllocation\n",
        "import numpy as np\n",
        "import matplotlib.pyplot as plt\n",
        "plt.rc('font', family='NanumBarunGothic')\n",
        "!pip install konlpy \n",
        "from konlpy.tag import Komoran\n",
        "\n",
        "\n",
        "# 문서 만들기: 축구와 강아지 관련 문서를 3개씩, 총 6개 문서\n",
        "documents = ['축구 선수들과 감독들은 경기에서 이기기 위해 다양한 전술과 기술을 꾸준히 개발해 왔다. 비록 축구가 상대편보다 더 많은 득점을 올리는 것이 승리 요건인 단순한 규칙을 기반으로 시작된 스포츠이지만, 단체 종목인 축구의 특성 상 선수 개개인의 기량을 극대화하여 보다 탄탄한 전술로 잘 조직된 팀이 승리할 가능성이 더 크다. 여러 팀 전술과 개인 기술의 발전은 축구를 단순한 공놀이가 아닌, 보다 흥미롭고 세련된 스포츠로 만드는 데 기여하고 있다.',\n",
        "            '축구는 경기 규칙에 따라 진행된다. 축구 양 팀 선수 열한 명이 상대 팀의 골대 안으로 축구공을 넣어 득점을 올리기 위해 경쟁하는 경기이다. 공은 단 한 개만 사용되며, 주전 선수가 부상이나 기타 여러 사유로 더 이상 경기를 진행할 수 없을 때를 대비해 후보 선수 열세 명을 따로 두기 때문에 한 팀당 선수 구성은 스물네 명이 된다. 경기가 종료됐을 때 더 많은 득점을 올린 팀이 승리하며, 양 팀이 동점일 경우는 무승부가 된다.',\n",
        "            '오늘날 축구는 프로축구의 형태로 세계 곳곳에서 이루어지고 있다. 수백만에 달하는 사람들이 정기적으로 축구 경기장을 찾으며 자신이 좋아하는 팀을 응원하고, 수십억의 인구가 텔레비전으로 축구를 시청한다. 수많은 사람 또한 아마추어 레벨에서 축구를 즐기는 것으로 알려졌다. 2001년 국제 축구 연맹이 주관한 조사에 따르면, 2억 4천 명 이상의 인구가 200여 국가에 걸쳐 정기적으로 축구를 하는 것으로 나타났다. 축구의 간단한 규칙과 적은 경기 필수품이 축구의 확산과 대중화에 기여했음은 두말 할 것도 없다.',\n",
        "            '태어난 강아지는 생후 10일까지를 출생견으로 본다. 강아지는 견종에 따라 체중이 매우 다양하며 태어난 지 14일 무렵 눈을 뜨고 소리에 반응하며 걷기 시작한다. 몸떨기 반사는 그보다 1주일 정도 빠르다. 젖 빨기는 첫 2주간은 2시간마다 이루어지며 8일 만에 몸무게가 약 두 배로 늘어나는 등 빠르게 성장한다. 이 기간엔 따로 마련한 출산장에서 강아지의 관리를 전적으로 어미개에게 맡기는 것이 좋다. 강아지가 자신의 몸을 부들부들 떠는 몸떨기 반사는 체온을 유지하기 위한 자연스러운 반응이다. 강아지는 생후 3주에서 3개월에 걸쳐 한 배에서 나온 강아지들과 어미, 사람들과 사회적 관계를 맺는 이행기를 거친다.',\n",
        "            '이 시기 강아지들에겐 나중에 어미나 같이 태어난 강아지와 떨어져 홀로 살아갈 앞날을 위해 다른 동물들과 마주치는 훈련등 사회화가 필요하다. 이행기의 강아지는 호기심이 왕성하여 바닥에 떨어진 것은 전기 코드나 작은 물건을 가리지 않고 물어뜯기 때문에 안전에 주의하여야 한다.',\n",
        "            '개는 매우 강한 사회성을 보이는 동물이며 강아지는 어미나 자신들끼리 노는 데 대부분의 시간을 보낸다. 사람과의 사회적 관계를 맺는 것은 8주에서 12주 무렵부터 이루어지' ]\n",
        "\n",
        "# 문서 전처리하기\n",
        "komoran = Komoran()\n",
        "documents_preprocessed = [' '.join(komoran.nouns(text)) for text in documents]\n",
        "print(documents_preprocessed)\n",
        "\n",
        "\n",
        "# 문서단어행렬 만들기\n",
        "count_vectorizer = CountVectorizer(min_df=2)   # 2개 이상의 문서에서 출현한 단어만 고려\n",
        "feat_vect = count_vectorizer.fit_transform(documents_preprocessed)\n",
        "feature_names = count_vectorizer.get_feature_names_out()\n",
        "print('단어 목록:', feature_names)\n",
        "print('문서단어행렬 모양 (문서의 수, 단어의 수):', feat_vect.shape)\n",
        "print(feat_vect.toarray())\n",
        "\n",
        "# 토픽모델 (LDA) 적용\n",
        "lda = LatentDirichletAllocation(n_components=2)  # 토픽 수는 2개로 설정\n",
        "lda.fit(feat_vect)\n"
      ],
      "metadata": {
        "colab": {
          "base_uri": "https://localhost:8080/"
        },
        "id": "HyqxE0cZ1dVW",
        "outputId": "279b7515-5b10-4392-88d1-d165fdb0b8bd"
      },
      "execution_count": null,
      "outputs": [
        {
          "output_type": "stream",
          "name": "stdout",
          "text": [
            "Looking in indexes: https://pypi.org/simple, https://us-python.pkg.dev/colab-wheels/public/simple/\n",
            "Requirement already satisfied: konlpy in /usr/local/lib/python3.7/dist-packages (0.6.0)\n",
            "Requirement already satisfied: lxml>=4.1.0 in /usr/local/lib/python3.7/dist-packages (from konlpy) (4.2.6)\n",
            "Requirement already satisfied: numpy>=1.6 in /usr/local/lib/python3.7/dist-packages (from konlpy) (1.21.6)\n",
            "Requirement already satisfied: JPype1>=0.7.0 in /usr/local/lib/python3.7/dist-packages (from konlpy) (1.4.0)\n",
            "Requirement already satisfied: typing-extensions in /usr/local/lib/python3.7/dist-packages (from JPype1>=0.7.0->konlpy) (4.1.1)\n",
            "['축구 선수 감독 경기 전술 기술 개발 축구 상대편 득점 것 승리 요건 규칙 기반 시작 스포츠 단체 종목 축구 특성 상 선수 개개인 기량 극대 전술 조직 팀 승리 팀 전술 개인 기술 발전 축구 공놀이 흥미 스포츠 데 기여', '축구 경기 규칙 진행 축구 팀 선수 열 명 상대 팀 골대 안 축구공 득점 경쟁 경기 공 개 사용 주전 선수 부상 기타 사유 이상 경기 진행 수 때 대비 후보 선수 열세 명 두기 때문 팀 선수 구성은 명 경기 종료 때 득점 팀 승리 팀 동점 경우 무승부', '오늘날 축구 프로 축구 형태 세계 곳곳 사람 정기 축구 경기장 자신 팀 응원 인구 텔레비전 축구 시청 사람 아마추어 레벨 축구 것 년 국제 축구 연맹 주관 조사 명 이상 인구 국가 정기 축구 것 축구 규칙 경기 필수품 축구 확산 대중 기여 두말 것', '강아지 생후 일 출생 견 강아지 견 종 체중 지 일 무렵 눈 소리 반응 걷기 시작 몸 떨기 반사 주일 정도 젖 주간 시간 일 만 몸무게 배로 등 성장 기간 마련 출산 장 강아지 관리 전적 어미 개 것 강아지 자신 몸 몸 떨기 반사 체온 유지 자연 반응 강아지 생후 주 개월 배 강아지 어미 사람 사회 관계 이행기', '시기 강아지 나중 어미 강아지 앞날 동물 훈련 등 사회화 필요 이행기 강아지 호기심 바닥 것 전기 코드 물건 때문 안전 주의', '개 사회 동물 강아지 어미 자신 데 대부분 시간 사람과 사회 관계 것 주 주 무렵']\n",
            "단어 목록: ['강아지' '경기' '관계' '규칙' '기여' '동물' '득점' '때문' '무렵' '사람' '사회' '선수' '승리' '시간'\n",
            " '시작' '어미' '이상' '이행기' '자신' '축구']\n",
            "문서단어행렬 모양 (문서의 수, 단어의 수): (6, 20)\n",
            "[[0 1 0 1 1 0 1 0 0 0 0 2 2 0 1 0 0 0 0 4]\n",
            " [0 4 0 1 0 0 2 1 0 0 0 4 1 0 0 0 1 0 0 2]\n",
            " [0 1 0 1 1 0 0 0 0 2 0 0 0 0 0 0 1 0 1 9]\n",
            " [6 0 1 0 0 0 0 0 1 1 1 0 0 1 1 2 0 1 1 0]\n",
            " [3 0 0 0 0 1 0 1 0 0 0 0 0 0 0 1 0 1 0 0]\n",
            " [1 0 1 0 0 1 0 0 1 0 2 0 0 1 0 1 0 0 1 0]]\n"
          ]
        },
        {
          "output_type": "execute_result",
          "data": {
            "text/plain": [
              "LatentDirichletAllocation(n_components=2)"
            ]
          },
          "metadata": {},
          "execution_count": 26
        }
      ]
    },
    {
      "cell_type": "code",
      "source": [
        "topic_word_dist = lda.components_ / lda.components_.sum(axis=1)[:, np.newaxis]    # 토픽별 단어분포\n",
        "doc_topic_dist = lda.transform(feat_vect)                                         # 문서별 토픽분포"
      ],
      "metadata": {
        "id": "FuEVTeWP2akC"
      },
      "execution_count": null,
      "outputs": []
    },
    {
      "cell_type": "code",
      "source": [
        "topic_word_dist[1,:]  # 토픽 2의 단어 분포|"
      ],
      "metadata": {
        "colab": {
          "base_uri": "https://localhost:8080/"
        },
        "id": "KAHWNphB2plO",
        "outputId": "580b40d4-3e25-40ef-f81a-514f1ef2b3fd"
      },
      "execution_count": null,
      "outputs": [
        {
          "output_type": "execute_result",
          "data": {
            "text/plain": [
              "array([0.00912309, 0.11819951, 0.00912075, 0.06362802, 0.04543629,\n",
              "       0.00913255, 0.0636295 , 0.02736534, 0.00912075, 0.04547905,\n",
              "       0.00912299, 0.1181989 , 0.06362678, 0.00912075, 0.02713623,\n",
              "       0.00912373, 0.04544034, 0.00912627, 0.02696388, 0.28190529])"
            ]
          },
          "metadata": {},
          "execution_count": 28
        }
      ]
    },
    {
      "cell_type": "code",
      "source": [
        "doc_topic_dist[0,:]  # 첫번째 문서의 토픽 분포"
      ],
      "metadata": {
        "colab": {
          "base_uri": "https://localhost:8080/"
        },
        "id": "m1xn_jsK2tpK",
        "outputId": "bc01b182-9b31-4e2d-d804-d7315fdbd2d5"
      },
      "execution_count": null,
      "outputs": [
        {
          "output_type": "execute_result",
          "data": {
            "text/plain": [
              "array([0.03724861, 0.96275139])"
            ]
          },
          "metadata": {},
          "execution_count": 29
        }
      ]
    },
    {
      "cell_type": "code",
      "source": [
        "# 토픽별로 중요 단어들 출력\n",
        "n_top_words = 5    # 중요 단어 5개\n",
        "for i, topic_dist in enumerate(topic_word_dist):\n",
        "    sorted_topic_dist = np.argsort(topic_dist)\n",
        "    topic_words = np.array(feature_names)[sorted_topic_dist]\n",
        "    topic_words = topic_words[:-n_top_words-1:-1]\n",
        "    print(\"Topic\", str(i+1), topic_words)"
      ],
      "metadata": {
        "colab": {
          "base_uri": "https://localhost:8080/"
        },
        "id": "EQ1wRlhD24vK",
        "outputId": "bdd63b82-8456-4e53-b611-8fa8e18fbadc"
      },
      "execution_count": null,
      "outputs": [
        {
          "output_type": "stream",
          "name": "stdout",
          "text": [
            "Topic 1 ['강아지' '어미' '사회' '자신' '관계']\n",
            "Topic 2 ['축구' '경기' '선수' '득점' '규칙']\n"
          ]
        }
      ]
    },
    {
      "cell_type": "code",
      "source": [
        "# 한글 폰트를 출력하기 위해 아래 코드를 실행 후 [런타임] - [런타임 다시 시작] 필요!!\n",
        "!sudo apt-get install -y fonts-nanum\n",
        "!sudo fc-cache -fv\n",
        "!rm ~/.cache/matplotlib -rf"
      ],
      "metadata": {
        "colab": {
          "base_uri": "https://localhost:8080/"
        },
        "id": "5ogaJNRv2_fq",
        "outputId": "d2e3fa3b-6422-4cc5-ad5e-f945d155083b"
      },
      "execution_count": null,
      "outputs": [
        {
          "output_type": "stream",
          "name": "stdout",
          "text": [
            "Reading package lists... Done\n",
            "Building dependency tree       \n",
            "Reading state information... Done\n",
            "fonts-nanum is already the newest version (20170925-1).\n",
            "The following package was automatically installed and is no longer required:\n",
            "  libnvidia-common-460\n",
            "Use 'sudo apt autoremove' to remove it.\n",
            "0 upgraded, 0 newly installed, 0 to remove and 49 not upgraded.\n",
            "/usr/share/fonts: caching, new cache contents: 0 fonts, 1 dirs\n",
            "/usr/share/fonts/truetype: caching, new cache contents: 0 fonts, 3 dirs\n",
            "/usr/share/fonts/truetype/humor-sans: caching, new cache contents: 1 fonts, 0 dirs\n",
            "/usr/share/fonts/truetype/liberation: caching, new cache contents: 16 fonts, 0 dirs\n",
            "/usr/share/fonts/truetype/nanum: caching, new cache contents: 10 fonts, 0 dirs\n",
            "/usr/local/share/fonts: caching, new cache contents: 0 fonts, 0 dirs\n",
            "/root/.local/share/fonts: skipping, no such directory\n",
            "/root/.fonts: skipping, no such directory\n",
            "/var/cache/fontconfig: cleaning cache directory\n",
            "/root/.cache/fontconfig: not cleaning non-existent cache directory\n",
            "/root/.fontconfig: not cleaning non-existent cache directory\n",
            "fc-cache: succeeded\n"
          ]
        }
      ]
    },
    {
      "cell_type": "code",
      "source": [
        "# 토픽별 단어분포\n",
        "i = 1    # 토픽 인덱스 (인덱스는 0부터 시작함에 유의, 토픽 1: i=0)\n",
        "topic_dist = topic_word_dist[i,:]\n",
        "sorted_topic_dist = np.argsort(topic_dist)\n",
        "topic_words = np.array(feature_names)[sorted_topic_dist]\n",
        "topic_words = topic_words[:-n_top_words-1:-1]\n",
        "print(\"Topic\", str(i+1), topic_words)\n",
        "plt.bar(topic_words, topic_word_dist[i,sorted_topic_dist][:-n_top_words-1:-1])\n",
        "plt.xticks(rotation=90)\n",
        "plt.title(\"Topic \" + str(i+1))\n",
        "plt.ylabel(\"Topic-specific Word Distribution\")\n",
        "plt.show()"
      ],
      "metadata": {
        "colab": {
          "base_uri": "https://localhost:8080/",
          "height": 306
        },
        "id": "zac-svbp3E25",
        "outputId": "bcad0663-9962-45d6-a6a7-d3eaf66f32b3"
      },
      "execution_count": null,
      "outputs": [
        {
          "output_type": "stream",
          "name": "stdout",
          "text": [
            "Topic 2 ['축구' '경기' '선수' '득점' '규칙']\n"
          ]
        },
        {
          "output_type": "display_data",
          "data": {
            "text/plain": [
              "<Figure size 432x288 with 1 Axes>"
            ],
            "image/png": "[encoded data removed]"
          },
          "metadata": {
            "needs_background": "light"
          }
        }
      ]
    },
    {
      "cell_type": "code",
      "source": [
        "# 문서별 토픽분포\n",
        "j = 0    # 문서 인덱스 (인덱스는 0부터 시작함에 유의, 첫번째 문서: j=0)\n",
        "plt.title(\"Document \" + str(j+1))\n",
        "plt.bar(['Topic 1', 'Topic 2'], doc_topic_dist[j,:])\n",
        "plt.ylabel(\"A Document's Topic Distribution\")\n",
        "plt.show()"
      ],
      "metadata": {
        "colab": {
          "base_uri": "https://localhost:8080/",
          "height": 280
        },
        "id": "OW74XStY3JNT",
        "outputId": "55d175f0-97f6-4fb9-e15e-7f526cf461a3"
      },
      "execution_count": null,
      "outputs": [
        {
          "output_type": "display_data",
          "data": {
            "text/plain": [
              "<Figure size 432x288 with 1 Axes>"
            ],
            "image/png": "[encoded data removed]"
          },
          "metadata": {
            "needs_background": "light"
          }
        }
      ]
    },
    {
      "cell_type": "markdown",
      "source": [
        "# 토픽모델링(영어)"
      ],
      "metadata": {
        "id": "Be6BY3fj35D8"
      }
    },
    {
      "cell_type": "code",
      "source": [
        "## 60p\n",
        "\n",
        "from sklearn.feature_extraction.text import CountVectorizer\n",
        "from sklearn.decomposition import LatentDirichletAllocation\n",
        "import numpy as np\n",
        "import matplotlib.pyplot as plt\n",
        "import nltk\n",
        "nltk.download('punkt')\n",
        "nltk.download('wordnet')\n",
        "nltk.download('stopwords')\n",
        "from nltk.corpus import stopwords\n",
        "import re\n",
        "stopwords_en = stopwords.words('english')\n",
        "\n",
        "\n",
        "# 문서 5개\n",
        "documents = ['I want to watch a movie this weekend.',\n",
        "             'I went shopping yesterday. New Zealand won the World Test Championship by beating India by eight wickets at Southampton.',\n",
        "             'I don’t watch cricket. Netflix and Amazon Prime have very good movies to watch.',\n",
        "             'Movies are a nice way to chill however, this time I would like to paint and read some good books. It’s been so long!',\n",
        "             'This blueberry milkshake is so good! Try reading Dr. Joe Dispenza’s books. His work is such a game-changer! His books helped to learn so much about how our thou']\n",
        "\n",
        "\n",
        "def eng_preprocessing(text):     # 영어 텍스트 전처리하는 과정을 함수로 만듦\n",
        "    text = text.lower()\n",
        "    tokens = nltk.word_tokenize(text)\n",
        "    lemmatizer = nltk.stem.WordNetLemmatizer()\n",
        "    tokens = [lemmatizer.lemmatize(t) for t in tokens]\n",
        "    tokens = [t for t in tokens if t not in stopwords_en]\n",
        "    tokens = [t for t in tokens if re.fullmatch('[a-z_-]+', t)]\n",
        "    return ' '.join(tokens)\n",
        "\n",
        "# 문서 전처리하기\n",
        "documents_preprocessed = [eng_preprocessing(text) for text in documents]\n",
        "print(documents_preprocessed)\n",
        "\n",
        "\n",
        "# 문서단어행렬 만들기\n",
        "count_vectorizer = CountVectorizer() \n",
        "feat_vect = count_vectorizer.fit_transform(documents_preprocessed)\n",
        "feature_names = count_vectorizer.get_feature_names_out()\n",
        "print('단어 목록:', feature_names)\n",
        "print('문서단어행렬 모양 (문서의 수, 단어의 수):', feat_vect.shape)\n",
        "print(feat_vect.toarray())\n",
        "\n",
        "\n",
        "# 토픽모델 (LDA) 적용\n",
        "lda = LatentDirichletAllocation(n_components=2)  # 토픽 수는 2개로 설정\n",
        "lda.fit(feat_vect)\n",
        "            "
      ],
      "metadata": {
        "colab": {
          "base_uri": "https://localhost:8080/"
        },
        "id": "5BH5GV313pUn",
        "outputId": "818bc203-91cd-4f99-9da6-56c0e9e0adf1"
      },
      "execution_count": null,
      "outputs": [
        {
          "output_type": "stream",
          "name": "stdout",
          "text": [
            "['want watch movie weekend', 'went shopping yesterday new zealand world test championship beating india eight wicket southampton', 'watch cricket netflix amazon prime good movie watch', 'movie nice way chill however time would like paint read good book long', 'blueberry milkshake good try reading joe dispenza book work game-changer book helped learn much thou']\n",
            "단어 목록: ['amazon' 'beating' 'blueberry' 'book' 'championship' 'changer' 'chill'\n",
            " 'cricket' 'dispenza' 'eight' 'game' 'good' 'helped' 'however' 'india'\n",
            " 'joe' 'learn' 'like' 'long' 'milkshake' 'movie' 'much' 'netflix' 'new'\n",
            " 'nice' 'paint' 'prime' 'read' 'reading' 'shopping' 'southampton' 'test'\n",
            " 'thou' 'time' 'try' 'want' 'watch' 'way' 'weekend' 'went' 'wicket' 'work'\n",
            " 'world' 'would' 'yesterday' 'zealand']\n",
            "문서단어행렬 모양 (문서의 수, 단어의 수): (5, 46)\n",
            "[[0 0 0 0 0 0 0 0 0 0 0 0 0 0 0 0 0 0 0 0 1 0 0 0 0 0 0 0 0 0 0 0 0 0 0 1\n",
            "  1 0 1 0 0 0 0 0 0 0]\n",
            " [0 1 0 0 1 0 0 0 0 1 0 0 0 0 1 0 0 0 0 0 0 0 0 1 0 0 0 0 0 1 1 1 0 0 0 0\n",
            "  0 0 0 1 1 0 1 0 1 1]\n",
            " [1 0 0 0 0 0 0 1 0 0 0 1 0 0 0 0 0 0 0 0 1 0 1 0 0 0 1 0 0 0 0 0 0 0 0 0\n",
            "  2 0 0 0 0 0 0 0 0 0]\n",
            " [0 0 0 1 0 0 1 0 0 0 0 1 0 1 0 0 0 1 1 0 1 0 0 0 1 1 0 1 0 0 0 0 0 1 0 0\n",
            "  0 1 0 0 0 0 0 1 0 0]\n",
            " [0 0 1 2 0 1 0 0 1 0 1 1 1 0 0 1 1 0 0 1 0 1 0 0 0 0 0 0 1 0 0 0 1 0 1 0\n",
            "  0 0 0 0 0 1 0 0 0 0]]\n"
          ]
        },
        {
          "output_type": "stream",
          "name": "stderr",
          "text": [
            "[nltk_data] Downloading package punkt to /root/nltk_data...\n",
            "[nltk_data]   Package punkt is already up-to-date!\n",
            "[nltk_data] Downloading package wordnet to /root/nltk_data...\n",
            "[nltk_data]   Package wordnet is already up-to-date!\n",
            "[nltk_data] Downloading package stopwords to /root/nltk_data...\n",
            "[nltk_data]   Package stopwords is already up-to-date!\n"
          ]
        },
        {
          "output_type": "execute_result",
          "data": {
            "text/plain": [
              "LatentDirichletAllocation(n_components=2)"
            ]
          },
          "metadata": {},
          "execution_count": 34
        }
      ]
    },
    {
      "cell_type": "code",
      "source": [
        "topic_word_dist = lda.components_ / lda.components_.sum(axis=1)[:, np.newaxis]    # 토픽별 단어분포\n",
        "doc_topic_dist = lda.transform(feat_vect)                                         # 문서별 토픽분포"
      ],
      "metadata": {
        "id": "XwAwO-3G4d_r"
      },
      "execution_count": null,
      "outputs": []
    },
    {
      "cell_type": "code",
      "source": [
        "topic_word_dist[1,:]  # 토픽 2의 단어 분포"
      ],
      "metadata": {
        "colab": {
          "base_uri": "https://localhost:8080/"
        },
        "id": "eVQMNvvg4ftP",
        "outputId": "4cfae37f-c820-47b6-e8f1-a4f2af330543"
      },
      "execution_count": null,
      "outputs": [
        {
          "output_type": "execute_result",
          "data": {
            "text/plain": [
              "array([0.02458418, 0.02461459, 0.00823433, 0.02391404, 0.02461459,\n",
              "       0.00823433, 0.02460032, 0.02458418, 0.00823433, 0.02461459,\n",
              "       0.00823433, 0.04079326, 0.00823433, 0.02460032, 0.02461459,\n",
              "       0.00823433, 0.00823433, 0.02460032, 0.02460032, 0.00823433,\n",
              "       0.05744393, 0.00823433, 0.02458418, 0.02461459, 0.02460032,\n",
              "       0.02460032, 0.02458418, 0.02460032, 0.00823433, 0.02461459,\n",
              "       0.02461459, 0.02461459, 0.00823433, 0.02460032, 0.00823433,\n",
              "       0.02451731, 0.05743827, 0.02460032, 0.02451731, 0.02461459,\n",
              "       0.02461459, 0.00823433, 0.02461459, 0.02460032, 0.02461459,\n",
              "       0.02461459])"
            ]
          },
          "metadata": {},
          "execution_count": 36
        }
      ]
    },
    {
      "cell_type": "code",
      "source": [
        "doc_topic_dist[0,:]  # 첫번째 문서의 토픽 분포"
      ],
      "metadata": {
        "colab": {
          "base_uri": "https://localhost:8080/"
        },
        "id": "6LUBLcgh4ic2",
        "outputId": "825446a8-b707-46d4-f7ea-7e9899a6e256"
      },
      "execution_count": null,
      "outputs": [
        {
          "output_type": "execute_result",
          "data": {
            "text/plain": [
              "array([0.1046541, 0.8953459])"
            ]
          },
          "metadata": {},
          "execution_count": 37
        }
      ]
    },
    {
      "cell_type": "code",
      "source": [
        "# 토픽별로 중요 단어들 출력\n",
        "n_top_words = 5    # 중요 단어 5개\n",
        "for i, topic_dist in enumerate(topic_word_dist):\n",
        "    sorted_topic_dist = np.argsort(topic_dist)\n",
        "    topic_words = np.array(feature_names)[sorted_topic_dist]\n",
        "    topic_words = topic_words[:-n_top_words-1:-1]\n",
        "    print(\"Topic\", str(i+1), topic_words)"
      ],
      "metadata": {
        "colab": {
          "base_uri": "https://localhost:8080/"
        },
        "id": "Q_re3_WJ4kSd",
        "outputId": "ca64448f-f2d3-49d7-d705-4df91cd25170"
      },
      "execution_count": null,
      "outputs": [
        {
          "output_type": "stream",
          "name": "stdout",
          "text": [
            "Topic 1 ['book' 'good' 'try' 'learn' 'joe']\n",
            "Topic 2 ['movie' 'watch' 'good' 'world' 'eight']\n"
          ]
        }
      ]
    },
    {
      "cell_type": "code",
      "source": [
        "# 토픽별 단어분포\n",
        "i = 1    # 토픽 인덱스 (인덱스는 0부터 시작함에 유의, 토픽 1: i=0)\n",
        "topic_dist = topic_word_dist[i,:]\n",
        "sorted_topic_dist = np.argsort(topic_dist)\n",
        "topic_words = np.array(feature_names)[sorted_topic_dist]\n",
        "topic_words = topic_words[:-n_top_words-1:-1]\n",
        "print(\"Topic\", str(i+1), topic_words)\n",
        "plt.bar(topic_words, topic_word_dist[i,sorted_topic_dist][:-n_top_words-1:-1])\n",
        "plt.xticks(rotation=90)\n",
        "plt.title(\"Topic \" + str(i+1))\n",
        "plt.ylabel(\"Topic-specific Word Distribution\")\n",
        "plt.show()"
      ],
      "metadata": {
        "colab": {
          "base_uri": "https://localhost:8080/",
          "height": 317
        },
        "id": "vmbM0Whu4mQV",
        "outputId": "a415d0ab-a18c-4090-aad5-ff9dafb851d3"
      },
      "execution_count": null,
      "outputs": [
        {
          "output_type": "stream",
          "name": "stdout",
          "text": [
            "Topic 2 ['movie' 'watch' 'good' 'world' 'eight']\n"
          ]
        },
        {
          "output_type": "display_data",
          "data": {
            "text/plain": [
              "<Figure size 432x288 with 1 Axes>"
            ],
            "image/png": "[encoded data removed]"
          },
          "metadata": {
            "needs_background": "light"
          }
        }
      ]
    },
    {
      "cell_type": "code",
      "source": [
        "# 문서별 토픽분포\n",
        "j = 0    # 문서 인덱스 (인덱스는 0부터 시작함에 유의, 첫번째 문서: j=0)\n",
        "plt.title(\"Document \" + str(j+1))\n",
        "plt.bar(['Topic 1', 'Topic 2'], doc_topic_dist[j,:])\n",
        "plt.ylabel(\"A Document's Topic Distribution\")\n",
        "plt.show()"
      ],
      "metadata": {
        "colab": {
          "base_uri": "https://localhost:8080/",
          "height": 280
        },
        "id": "xVPWL4ro4n53",
        "outputId": "99501b56-ccea-4a4f-df43-56615cb9fb51"
      },
      "execution_count": null,
      "outputs": [
        {
          "output_type": "display_data",
          "data": {
            "text/plain": [
              "<Figure size 432x288 with 1 Axes>"
            ],
            "image/png": "[encoded data removed]"
          },
          "metadata": {
            "needs_background": "light"
          }
        }
      ]
    },
    {
      "cell_type": "code",
      "source": [],
      "metadata": {
        "id": "D4xMbuaJ4qXi"
      },
      "execution_count": null,
      "outputs": []
    }
  ]
}