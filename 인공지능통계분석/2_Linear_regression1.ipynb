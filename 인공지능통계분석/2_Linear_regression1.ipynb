{
  "cells": [
    {
      "cell_type": "markdown",
      "metadata": {
        "id": "cesMncHrgZuw"
      },
      "source": [
        "# ▒ 선형회귀분석 ▒"
      ]
    },
    {
      "cell_type": "markdown",
      "metadata": {
        "id": "Fxzxr9L-gZu0"
      },
      "source": [
        "## 0. 환경설정"
      ]
    },
    {
      "cell_type": "code",
      "execution_count": 1,
      "metadata": {
        "id": "dAQXpSSegZu0"
      },
      "outputs": [],
      "source": [
        "import os\n",
        "import numpy as np\n",
        "import pandas as pd\n",
        "import seaborn as sns\n",
        "import matplotlib.pyplot as plt\n",
        "import statsmodels.formula.api as smf"
      ]
    },
    {
      "cell_type": "code",
      "source": [
        "from google.colab import drive\n",
        "drive.mount('/content/gdrive')"
      ],
      "metadata": {
        "colab": {
          "base_uri": "https://localhost:8080/"
        },
        "id": "ccqWdNGEhPhO",
        "outputId": "413336a8-ba88-4579-9814-2ab6a69557b9"
      },
      "execution_count": 12,
      "outputs": [
        {
          "output_type": "stream",
          "name": "stdout",
          "text": [
            "Mounted at /content/gdrive\n"
          ]
        }
      ]
    },
    {
      "cell_type": "markdown",
      "metadata": {
        "id": "CsqcswUEgZu2"
      },
      "source": [
        "## 1. 단순선형회귀분석의 적합\n",
        "\n",
        "### 1-1. Sale 데이터를 이용한 단순선형회귀분석"
      ]
    },
    {
      "cell_type": "code",
      "execution_count": 18,
      "metadata": {
        "colab": {
          "base_uri": "https://localhost:8080/",
          "height": 206
        },
        "id": "xhMKtSFGgZu2",
        "outputId": "d5546c30-9d6e-4620-eda4-0f3ad4aa18c7"
      },
      "outputs": [
        {
          "output_type": "execute_result",
          "data": {
            "text/plain": [
              "   Company  Adver  Sales\n",
              "0        1     11     23\n",
              "1        2     19     32\n",
              "2        3     23     36\n",
              "3        4     26     46\n",
              "4        5     56     93"
            ],
            "text/html": [
              "\n",
              "  <div id=\"df-e16b2c02-4c69-4510-8b33-c0806844ba63\">\n",
              "    <div class=\"colab-df-container\">\n",
              "      <div>\n",
              "<style scoped>\n",
              "    .dataframe tbody tr th:only-of-type {\n",
              "        vertical-align: middle;\n",
              "    }\n",
              "\n",
              "    .dataframe tbody tr th {\n",
              "        vertical-align: top;\n",
              "    }\n",
              "\n",
              "    .dataframe thead th {\n",
              "        text-align: right;\n",
              "    }\n",
              "</style>\n",
              "<table border=\"1\" class=\"dataframe\">\n",
              "  <thead>\n",
              "    <tr style=\"text-align: right;\">\n",
              "      <th></th>\n",
              "      <th>Company</th>\n",
              "      <th>Adver</th>\n",
              "      <th>Sales</th>\n",
              "    </tr>\n",
              "  </thead>\n",
              "  <tbody>\n",
              "    <tr>\n",
              "      <th>0</th>\n",
              "      <td>1</td>\n",
              "      <td>11</td>\n",
              "      <td>23</td>\n",
              "    </tr>\n",
              "    <tr>\n",
              "      <th>1</th>\n",
              "      <td>2</td>\n",
              "      <td>19</td>\n",
              "      <td>32</td>\n",
              "    </tr>\n",
              "    <tr>\n",
              "      <th>2</th>\n",
              "      <td>3</td>\n",
              "      <td>23</td>\n",
              "      <td>36</td>\n",
              "    </tr>\n",
              "    <tr>\n",
              "      <th>3</th>\n",
              "      <td>4</td>\n",
              "      <td>26</td>\n",
              "      <td>46</td>\n",
              "    </tr>\n",
              "    <tr>\n",
              "      <th>4</th>\n",
              "      <td>5</td>\n",
              "      <td>56</td>\n",
              "      <td>93</td>\n",
              "    </tr>\n",
              "  </tbody>\n",
              "</table>\n",
              "</div>\n",
              "      <button class=\"colab-df-convert\" onclick=\"convertToInteractive('df-e16b2c02-4c69-4510-8b33-c0806844ba63')\"\n",
              "              title=\"Convert this dataframe to an interactive table.\"\n",
              "              style=\"display:none;\">\n",
              "        \n",
              "  <svg xmlns=\"http://www.w3.org/2000/svg\" height=\"24px\"viewBox=\"0 0 24 24\"\n",
              "       width=\"24px\">\n",
              "    <path d=\"M0 0h24v24H0V0z\" fill=\"none\"/>\n",
              "    <path d=\"M18.56 5.44l.94 2.06.94-2.06 2.06-.94-2.06-.94-.94-2.06-.94 2.06-2.06.94zm-11 1L8.5 8.5l.94-2.06 2.06-.94-2.06-.94L8.5 2.5l-.94 2.06-2.06.94zm10 10l.94 2.06.94-2.06 2.06-.94-2.06-.94-.94-2.06-.94 2.06-2.06.94z\"/><path d=\"M17.41 7.96l-1.37-1.37c-.4-.4-.92-.59-1.43-.59-.52 0-1.04.2-1.43.59L10.3 9.45l-7.72 7.72c-.78.78-.78 2.05 0 2.83L4 21.41c.39.39.9.59 1.41.59.51 0 1.02-.2 1.41-.59l7.78-7.78 2.81-2.81c.8-.78.8-2.07 0-2.86zM5.41 20L4 18.59l7.72-7.72 1.47 1.35L5.41 20z\"/>\n",
              "  </svg>\n",
              "      </button>\n",
              "      \n",
              "  <style>\n",
              "    .colab-df-container {\n",
              "      display:flex;\n",
              "      flex-wrap:wrap;\n",
              "      gap: 12px;\n",
              "    }\n",
              "\n",
              "    .colab-df-convert {\n",
              "      background-color: #E8F0FE;\n",
              "      border: none;\n",
              "      border-radius: 50%;\n",
              "      cursor: pointer;\n",
              "      display: none;\n",
              "      fill: #1967D2;\n",
              "      height: 32px;\n",
              "      padding: 0 0 0 0;\n",
              "      width: 32px;\n",
              "    }\n",
              "\n",
              "    .colab-df-convert:hover {\n",
              "      background-color: #E2EBFA;\n",
              "      box-shadow: 0px 1px 2px rgba(60, 64, 67, 0.3), 0px 1px 3px 1px rgba(60, 64, 67, 0.15);\n",
              "      fill: #174EA6;\n",
              "    }\n",
              "\n",
              "    [theme=dark] .colab-df-convert {\n",
              "      background-color: #3B4455;\n",
              "      fill: #D2E3FC;\n",
              "    }\n",
              "\n",
              "    [theme=dark] .colab-df-convert:hover {\n",
              "      background-color: #434B5C;\n",
              "      box-shadow: 0px 1px 3px 1px rgba(0, 0, 0, 0.15);\n",
              "      filter: drop-shadow(0px 1px 2px rgba(0, 0, 0, 0.3));\n",
              "      fill: #FFFFFF;\n",
              "    }\n",
              "  </style>\n",
              "\n",
              "      <script>\n",
              "        const buttonEl =\n",
              "          document.querySelector('#df-e16b2c02-4c69-4510-8b33-c0806844ba63 button.colab-df-convert');\n",
              "        buttonEl.style.display =\n",
              "          google.colab.kernel.accessAllowed ? 'block' : 'none';\n",
              "\n",
              "        async function convertToInteractive(key) {\n",
              "          const element = document.querySelector('#df-e16b2c02-4c69-4510-8b33-c0806844ba63');\n",
              "          const dataTable =\n",
              "            await google.colab.kernel.invokeFunction('convertToInteractive',\n",
              "                                                     [key], {});\n",
              "          if (!dataTable) return;\n",
              "\n",
              "          const docLinkHtml = 'Like what you see? Visit the ' +\n",
              "            '<a target=\"_blank\" href=https://colab.research.google.com/notebooks/data_table.ipynb>data table notebook</a>'\n",
              "            + ' to learn more about interactive tables.';\n",
              "          element.innerHTML = '';\n",
              "          dataTable['output_type'] = 'display_data';\n",
              "          await google.colab.output.renderOutput(dataTable, element);\n",
              "          const docLink = document.createElement('div');\n",
              "          docLink.innerHTML = docLinkHtml;\n",
              "          element.appendChild(docLink);\n",
              "        }\n",
              "      </script>\n",
              "    </div>\n",
              "  </div>\n",
              "  "
            ]
          },
          "metadata": {},
          "execution_count": 18
        }
      ],
      "source": [
        "data_file = \"/content/gdrive/MyDrive/data/Sales.csv\"\n",
        "Sales = pd.read_csv(data_file)\n",
        "Sales.iloc[0:5]"
      ]
    },
    {
      "cell_type": "code",
      "execution_count": 19,
      "metadata": {
        "colab": {
          "base_uri": "https://localhost:8080/"
        },
        "id": "p2sOMg4ggZu4",
        "outputId": "7d215a30-aab8-417d-846d-1d01ed1955e4"
      },
      "outputs": [
        {
          "output_type": "stream",
          "name": "stdout",
          "text": [
            "                            OLS Regression Results                            \n",
            "==============================================================================\n",
            "Dep. Variable:                  Sales   R-squared:                       0.979\n",
            "Model:                            OLS   Adj. R-squared:                  0.976\n",
            "Method:                 Least Squares   F-statistic:                     455.5\n",
            "Date:                Tue, 13 Sep 2022   Prob (F-statistic):           1.14e-09\n",
            "Time:                        06:37:32   Log-Likelihood:                -32.059\n",
            "No. Observations:                  12   AIC:                             68.12\n",
            "Df Residuals:                      10   BIC:                             69.09\n",
            "Df Model:                           1                                         \n",
            "Covariance Type:            nonrobust                                         \n",
            "==============================================================================\n",
            "                 coef    std err          t      P>|t|      [0.025      0.975]\n",
            "------------------------------------------------------------------------------\n",
            "Intercept      3.2848      2.889      1.137      0.282      -3.153       9.723\n",
            "Adver          1.5972      0.075     21.343      0.000       1.430       1.764\n",
            "==============================================================================\n",
            "Omnibus:                        0.879   Durbin-Watson:                   2.470\n",
            "Prob(Omnibus):                  0.644   Jarque-Bera (JB):                0.379\n",
            "Skew:                           0.419   Prob(JB):                        0.828\n",
            "Kurtosis:                       2.768   Cond. No.                         101.\n",
            "==============================================================================\n",
            "\n",
            "Notes:\n",
            "[1] Standard Errors assume that the covariance matrix of the errors is correctly specified.\n"
          ]
        },
        {
          "output_type": "stream",
          "name": "stderr",
          "text": [
            "/usr/local/lib/python3.7/dist-packages/scipy/stats/stats.py:1542: UserWarning: kurtosistest only valid for n>=20 ... continuing anyway, n=12\n",
            "  \"anyway, n=%i\" % int(n))\n"
          ]
        }
      ],
      "source": [
        "## 단순선형회귀분석 적합\n",
        "SalesFit = smf.ols(formula='Sales~Adver', data=Sales).fit()\n",
        "print(SalesFit.summary())"
      ]
    },
    {
      "cell_type": "code",
      "execution_count": 20,
      "metadata": {
        "colab": {
          "base_uri": "https://localhost:8080/",
          "height": 143
        },
        "id": "cS5BHo0YgZu5",
        "outputId": "2eb478ee-df30-4494-fc4f-9fe6a904e8c4"
      },
      "outputs": [
        {
          "output_type": "execute_result",
          "data": {
            "text/plain": [
              "     mean  mean_se  mean_ci_lower  mean_ci_upper  obs_ci_lower  obs_ci_upper\n",
              "0  20.854    2.152         16.058         25.649        11.057        30.650\n",
              "1  33.631    1.667         29.916         37.346        24.316        42.946\n",
              "2  40.019    1.457         36.773         43.266        30.881        49.158"
            ],
            "text/html": [
              "\n",
              "  <div id=\"df-364cd213-e957-45f6-89e0-ba3c0b039d4b\">\n",
              "    <div class=\"colab-df-container\">\n",
              "      <div>\n",
              "<style scoped>\n",
              "    .dataframe tbody tr th:only-of-type {\n",
              "        vertical-align: middle;\n",
              "    }\n",
              "\n",
              "    .dataframe tbody tr th {\n",
              "        vertical-align: top;\n",
              "    }\n",
              "\n",
              "    .dataframe thead th {\n",
              "        text-align: right;\n",
              "    }\n",
              "</style>\n",
              "<table border=\"1\" class=\"dataframe\">\n",
              "  <thead>\n",
              "    <tr style=\"text-align: right;\">\n",
              "      <th></th>\n",
              "      <th>mean</th>\n",
              "      <th>mean_se</th>\n",
              "      <th>mean_ci_lower</th>\n",
              "      <th>mean_ci_upper</th>\n",
              "      <th>obs_ci_lower</th>\n",
              "      <th>obs_ci_upper</th>\n",
              "    </tr>\n",
              "  </thead>\n",
              "  <tbody>\n",
              "    <tr>\n",
              "      <th>0</th>\n",
              "      <td>20.854</td>\n",
              "      <td>2.152</td>\n",
              "      <td>16.058</td>\n",
              "      <td>25.649</td>\n",
              "      <td>11.057</td>\n",
              "      <td>30.650</td>\n",
              "    </tr>\n",
              "    <tr>\n",
              "      <th>1</th>\n",
              "      <td>33.631</td>\n",
              "      <td>1.667</td>\n",
              "      <td>29.916</td>\n",
              "      <td>37.346</td>\n",
              "      <td>24.316</td>\n",
              "      <td>42.946</td>\n",
              "    </tr>\n",
              "    <tr>\n",
              "      <th>2</th>\n",
              "      <td>40.019</td>\n",
              "      <td>1.457</td>\n",
              "      <td>36.773</td>\n",
              "      <td>43.266</td>\n",
              "      <td>30.881</td>\n",
              "      <td>49.158</td>\n",
              "    </tr>\n",
              "  </tbody>\n",
              "</table>\n",
              "</div>\n",
              "      <button class=\"colab-df-convert\" onclick=\"convertToInteractive('df-364cd213-e957-45f6-89e0-ba3c0b039d4b')\"\n",
              "              title=\"Convert this dataframe to an interactive table.\"\n",
              "              style=\"display:none;\">\n",
              "        \n",
              "  <svg xmlns=\"http://www.w3.org/2000/svg\" height=\"24px\"viewBox=\"0 0 24 24\"\n",
              "       width=\"24px\">\n",
              "    <path d=\"M0 0h24v24H0V0z\" fill=\"none\"/>\n",
              "    <path d=\"M18.56 5.44l.94 2.06.94-2.06 2.06-.94-2.06-.94-.94-2.06-.94 2.06-2.06.94zm-11 1L8.5 8.5l.94-2.06 2.06-.94-2.06-.94L8.5 2.5l-.94 2.06-2.06.94zm10 10l.94 2.06.94-2.06 2.06-.94-2.06-.94-.94-2.06-.94 2.06-2.06.94z\"/><path d=\"M17.41 7.96l-1.37-1.37c-.4-.4-.92-.59-1.43-.59-.52 0-1.04.2-1.43.59L10.3 9.45l-7.72 7.72c-.78.78-.78 2.05 0 2.83L4 21.41c.39.39.9.59 1.41.59.51 0 1.02-.2 1.41-.59l7.78-7.78 2.81-2.81c.8-.78.8-2.07 0-2.86zM5.41 20L4 18.59l7.72-7.72 1.47 1.35L5.41 20z\"/>\n",
              "  </svg>\n",
              "      </button>\n",
              "      \n",
              "  <style>\n",
              "    .colab-df-container {\n",
              "      display:flex;\n",
              "      flex-wrap:wrap;\n",
              "      gap: 12px;\n",
              "    }\n",
              "\n",
              "    .colab-df-convert {\n",
              "      background-color: #E8F0FE;\n",
              "      border: none;\n",
              "      border-radius: 50%;\n",
              "      cursor: pointer;\n",
              "      display: none;\n",
              "      fill: #1967D2;\n",
              "      height: 32px;\n",
              "      padding: 0 0 0 0;\n",
              "      width: 32px;\n",
              "    }\n",
              "\n",
              "    .colab-df-convert:hover {\n",
              "      background-color: #E2EBFA;\n",
              "      box-shadow: 0px 1px 2px rgba(60, 64, 67, 0.3), 0px 1px 3px 1px rgba(60, 64, 67, 0.15);\n",
              "      fill: #174EA6;\n",
              "    }\n",
              "\n",
              "    [theme=dark] .colab-df-convert {\n",
              "      background-color: #3B4455;\n",
              "      fill: #D2E3FC;\n",
              "    }\n",
              "\n",
              "    [theme=dark] .colab-df-convert:hover {\n",
              "      background-color: #434B5C;\n",
              "      box-shadow: 0px 1px 3px 1px rgba(0, 0, 0, 0.15);\n",
              "      filter: drop-shadow(0px 1px 2px rgba(0, 0, 0, 0.3));\n",
              "      fill: #FFFFFF;\n",
              "    }\n",
              "  </style>\n",
              "\n",
              "      <script>\n",
              "        const buttonEl =\n",
              "          document.querySelector('#df-364cd213-e957-45f6-89e0-ba3c0b039d4b button.colab-df-convert');\n",
              "        buttonEl.style.display =\n",
              "          google.colab.kernel.accessAllowed ? 'block' : 'none';\n",
              "\n",
              "        async function convertToInteractive(key) {\n",
              "          const element = document.querySelector('#df-364cd213-e957-45f6-89e0-ba3c0b039d4b');\n",
              "          const dataTable =\n",
              "            await google.colab.kernel.invokeFunction('convertToInteractive',\n",
              "                                                     [key], {});\n",
              "          if (!dataTable) return;\n",
              "\n",
              "          const docLinkHtml = 'Like what you see? Visit the ' +\n",
              "            '<a target=\"_blank\" href=https://colab.research.google.com/notebooks/data_table.ipynb>data table notebook</a>'\n",
              "            + ' to learn more about interactive tables.';\n",
              "          element.innerHTML = '';\n",
              "          dataTable['output_type'] = 'display_data';\n",
              "          await google.colab.output.renderOutput(dataTable, element);\n",
              "          const docLink = document.createElement('div');\n",
              "          docLink.innerHTML = docLinkHtml;\n",
              "          element.appendChild(docLink);\n",
              "        }\n",
              "      </script>\n",
              "    </div>\n",
              "  </div>\n",
              "  "
            ]
          },
          "metadata": {},
          "execution_count": 20
        }
      ],
      "source": [
        "## 적합된 모형을 이용한 적합값 및 신뢰구간\n",
        "predictions = SalesFit.get_prediction()\n",
        "predictions.summary_frame(alpha=0.05).round(3).iloc[0:3]"
      ]
    },
    {
      "cell_type": "markdown",
      "metadata": {
        "id": "_nqPvorMgZu5"
      },
      "source": [
        "## 2. 잔차분석\n",
        "### 2-1. 표준화잔차와 잔차도표"
      ]
    },
    {
      "cell_type": "code",
      "execution_count": 21,
      "metadata": {
        "colab": {
          "base_uri": "https://localhost:8080/",
          "height": 206
        },
        "id": "KWQhDf3UgZu6",
        "outputId": "0cdbd259-ad18-42b4-aeb0-99ed121c36c1"
      },
      "outputs": [
        {
          "output_type": "execute_result",
          "data": {
            "text/plain": [
              "      Fitted  Residual  RStandard\n",
              "0  20.853505  2.146495   0.559896\n",
              "1  33.630747 -1.630747  -0.425367\n",
              "2  40.019368 -4.019368  -1.048420\n",
              "3  44.810833  1.189167   0.310185\n",
              "4  92.725489  0.274511   0.071604"
            ],
            "text/html": [
              "\n",
              "  <div id=\"df-55190b70-63fa-49cf-bb87-e0b8dd05aa57\">\n",
              "    <div class=\"colab-df-container\">\n",
              "      <div>\n",
              "<style scoped>\n",
              "    .dataframe tbody tr th:only-of-type {\n",
              "        vertical-align: middle;\n",
              "    }\n",
              "\n",
              "    .dataframe tbody tr th {\n",
              "        vertical-align: top;\n",
              "    }\n",
              "\n",
              "    .dataframe thead th {\n",
              "        text-align: right;\n",
              "    }\n",
              "</style>\n",
              "<table border=\"1\" class=\"dataframe\">\n",
              "  <thead>\n",
              "    <tr style=\"text-align: right;\">\n",
              "      <th></th>\n",
              "      <th>Fitted</th>\n",
              "      <th>Residual</th>\n",
              "      <th>RStandard</th>\n",
              "    </tr>\n",
              "  </thead>\n",
              "  <tbody>\n",
              "    <tr>\n",
              "      <th>0</th>\n",
              "      <td>20.853505</td>\n",
              "      <td>2.146495</td>\n",
              "      <td>0.559896</td>\n",
              "    </tr>\n",
              "    <tr>\n",
              "      <th>1</th>\n",
              "      <td>33.630747</td>\n",
              "      <td>-1.630747</td>\n",
              "      <td>-0.425367</td>\n",
              "    </tr>\n",
              "    <tr>\n",
              "      <th>2</th>\n",
              "      <td>40.019368</td>\n",
              "      <td>-4.019368</td>\n",
              "      <td>-1.048420</td>\n",
              "    </tr>\n",
              "    <tr>\n",
              "      <th>3</th>\n",
              "      <td>44.810833</td>\n",
              "      <td>1.189167</td>\n",
              "      <td>0.310185</td>\n",
              "    </tr>\n",
              "    <tr>\n",
              "      <th>4</th>\n",
              "      <td>92.725489</td>\n",
              "      <td>0.274511</td>\n",
              "      <td>0.071604</td>\n",
              "    </tr>\n",
              "  </tbody>\n",
              "</table>\n",
              "</div>\n",
              "      <button class=\"colab-df-convert\" onclick=\"convertToInteractive('df-55190b70-63fa-49cf-bb87-e0b8dd05aa57')\"\n",
              "              title=\"Convert this dataframe to an interactive table.\"\n",
              "              style=\"display:none;\">\n",
              "        \n",
              "  <svg xmlns=\"http://www.w3.org/2000/svg\" height=\"24px\"viewBox=\"0 0 24 24\"\n",
              "       width=\"24px\">\n",
              "    <path d=\"M0 0h24v24H0V0z\" fill=\"none\"/>\n",
              "    <path d=\"M18.56 5.44l.94 2.06.94-2.06 2.06-.94-2.06-.94-.94-2.06-.94 2.06-2.06.94zm-11 1L8.5 8.5l.94-2.06 2.06-.94-2.06-.94L8.5 2.5l-.94 2.06-2.06.94zm10 10l.94 2.06.94-2.06 2.06-.94-2.06-.94-.94-2.06-.94 2.06-2.06.94z\"/><path d=\"M17.41 7.96l-1.37-1.37c-.4-.4-.92-.59-1.43-.59-.52 0-1.04.2-1.43.59L10.3 9.45l-7.72 7.72c-.78.78-.78 2.05 0 2.83L4 21.41c.39.39.9.59 1.41.59.51 0 1.02-.2 1.41-.59l7.78-7.78 2.81-2.81c.8-.78.8-2.07 0-2.86zM5.41 20L4 18.59l7.72-7.72 1.47 1.35L5.41 20z\"/>\n",
              "  </svg>\n",
              "      </button>\n",
              "      \n",
              "  <style>\n",
              "    .colab-df-container {\n",
              "      display:flex;\n",
              "      flex-wrap:wrap;\n",
              "      gap: 12px;\n",
              "    }\n",
              "\n",
              "    .colab-df-convert {\n",
              "      background-color: #E8F0FE;\n",
              "      border: none;\n",
              "      border-radius: 50%;\n",
              "      cursor: pointer;\n",
              "      display: none;\n",
              "      fill: #1967D2;\n",
              "      height: 32px;\n",
              "      padding: 0 0 0 0;\n",
              "      width: 32px;\n",
              "    }\n",
              "\n",
              "    .colab-df-convert:hover {\n",
              "      background-color: #E2EBFA;\n",
              "      box-shadow: 0px 1px 2px rgba(60, 64, 67, 0.3), 0px 1px 3px 1px rgba(60, 64, 67, 0.15);\n",
              "      fill: #174EA6;\n",
              "    }\n",
              "\n",
              "    [theme=dark] .colab-df-convert {\n",
              "      background-color: #3B4455;\n",
              "      fill: #D2E3FC;\n",
              "    }\n",
              "\n",
              "    [theme=dark] .colab-df-convert:hover {\n",
              "      background-color: #434B5C;\n",
              "      box-shadow: 0px 1px 3px 1px rgba(0, 0, 0, 0.15);\n",
              "      filter: drop-shadow(0px 1px 2px rgba(0, 0, 0, 0.3));\n",
              "      fill: #FFFFFF;\n",
              "    }\n",
              "  </style>\n",
              "\n",
              "      <script>\n",
              "        const buttonEl =\n",
              "          document.querySelector('#df-55190b70-63fa-49cf-bb87-e0b8dd05aa57 button.colab-df-convert');\n",
              "        buttonEl.style.display =\n",
              "          google.colab.kernel.accessAllowed ? 'block' : 'none';\n",
              "\n",
              "        async function convertToInteractive(key) {\n",
              "          const element = document.querySelector('#df-55190b70-63fa-49cf-bb87-e0b8dd05aa57');\n",
              "          const dataTable =\n",
              "            await google.colab.kernel.invokeFunction('convertToInteractive',\n",
              "                                                     [key], {});\n",
              "          if (!dataTable) return;\n",
              "\n",
              "          const docLinkHtml = 'Like what you see? Visit the ' +\n",
              "            '<a target=\"_blank\" href=https://colab.research.google.com/notebooks/data_table.ipynb>data table notebook</a>'\n",
              "            + ' to learn more about interactive tables.';\n",
              "          element.innerHTML = '';\n",
              "          dataTable['output_type'] = 'display_data';\n",
              "          await google.colab.output.renderOutput(dataTable, element);\n",
              "          const docLink = document.createElement('div');\n",
              "          docLink.innerHTML = docLinkHtml;\n",
              "          element.appendChild(docLink);\n",
              "        }\n",
              "      </script>\n",
              "    </div>\n",
              "  </div>\n",
              "  "
            ]
          },
          "metadata": {},
          "execution_count": 21
        }
      ],
      "source": [
        "Fitted = SalesFit.predict()\n",
        "Residual = SalesFit.resid\n",
        "RStandard = SalesFit.resid_pearson\n",
        "\n",
        "## 잔차, 표준화잔차의 탐색\n",
        "pd.DataFrame({'Fitted': Fitted, 'Residual': Residual, \\\n",
        "                    'RStandard': RStandard}).iloc[0:5]"
      ]
    },
    {
      "cell_type": "code",
      "execution_count": 22,
      "metadata": {
        "colab": {
          "base_uri": "https://localhost:8080/",
          "height": 506
        },
        "id": "3FtqRuAlgZu6",
        "outputId": "5f891e78-6201-4dba-afcf-fc91d430a1a6"
      },
      "outputs": [
        {
          "output_type": "execute_result",
          "data": {
            "text/plain": [
              "<matplotlib.lines.Line2D at 0x7f0dd0f46c10>"
            ]
          },
          "metadata": {},
          "execution_count": 22
        },
        {
          "output_type": "display_data",
          "data": {
            "text/plain": [
              "<Figure size 720x576 with 1 Axes>"
            ],
            "image/png": "[encoded data removed]"
          },
          "metadata": {
            "needs_background": "light"
          }
        }
      ],
      "source": [
        "## 잔차 도표\n",
        "fig, ax = plt.subplots(figsize=(10,8))\n",
        "sns.scatterplot(x=Fitted,y=RStandard, s=150)\n",
        "ax.xaxis.set_tick_params(labelsize=15)\n",
        "ax.yaxis.set_tick_params(labelsize=15)\n",
        "ax.axhline(y=0)"
      ]
    },
    {
      "cell_type": "markdown",
      "metadata": {
        "id": "OQVByp2pgZu7"
      },
      "source": [
        "### 2-2. 정규성 검토"
      ]
    },
    {
      "cell_type": "code",
      "execution_count": 23,
      "metadata": {
        "colab": {
          "base_uri": "https://localhost:8080/",
          "height": 424
        },
        "id": "3UFLIukpgZu7",
        "outputId": "466b1301-22fa-4d10-b75a-9398018b9bcc"
      },
      "outputs": [
        {
          "output_type": "execute_result",
          "data": {
            "text/plain": [
              "((array([-1.58815464, -1.09814975, -0.78255927, -0.53069113, -0.30892353,\n",
              "         -0.101534  ,  0.101534  ,  0.30892353,  0.53069113,  0.78255927,\n",
              "          1.09814975,  1.58815464]),\n",
              "  array([-1.50086884, -1.04842015, -0.86297515, -0.42536736, -0.31286804,\n",
              "         -0.15710484,  0.07160403,  0.26692088,  0.31018475,  0.55989614,\n",
              "          1.15452596,  1.94447261])),\n",
              " (1.014930164527946, 6.532364655292017e-15, 0.9869321023876498))"
            ]
          },
          "metadata": {},
          "execution_count": 23
        },
        {
          "output_type": "display_data",
          "data": {
            "text/plain": [
              "<Figure size 432x288 with 1 Axes>"
            ],
            "image/png": "[encoded data removed]"
          },
          "metadata": {
            "needs_background": "light"
          }
        }
      ],
      "source": [
        "from scipy.stats import probplot\n",
        "## Q-Q plot\n",
        "probplot(RStandard, plot=plt)"
      ]
    },
    {
      "cell_type": "markdown",
      "metadata": {
        "id": "t-HwI1icgZu7"
      },
      "source": [
        "### 2-3. 독립성 가정 검토 (더빈-왓슨 통계량)"
      ]
    },
    {
      "cell_type": "code",
      "execution_count": 25,
      "metadata": {
        "colab": {
          "base_uri": "https://localhost:8080/"
        },
        "id": "ueuIvVRigZu8",
        "outputId": "e47b7938-f6a8-4608-cbc1-319540e5538f"
      },
      "outputs": [
        {
          "output_type": "stream",
          "name": "stdout",
          "text": [
            "2.47031\n",
            "2.47031\n"
          ]
        }
      ],
      "source": [
        "from statsmodels.stats.stattools import durbin_watson\n",
        "print(durbin_watson(Residual).round(5))\n",
        "print(durbin_watson(RStandard).round(5))"
      ]
    },
    {
      "cell_type": "markdown",
      "metadata": {
        "id": "aO61NCYYgZu8"
      },
      "source": [
        "- 더빈-왓슨 통계량의 값은 약 2.470\n",
        "- 비교적 2에 가까워서 독립성 가정에 큰 문제가 없음."
      ]
    },
    {
      "cell_type": "markdown",
      "metadata": {
        "id": "EWoW6wALgZu8"
      },
      "source": [
        "## 3. 다변량회귀분석모형의 적합\n",
        "### 데이터 준비\n",
        "\n",
        "- 700명의 고객을 대상으로 어떤 제품에 대해 조사하여 얻은 데이터.\n",
        "- $X_1$: 디자인 만족도\n",
        "- $X_2$: 사용 편리성 만족도\n",
        "- $X_3$: 성능 만족도\n",
        "- $X_4$: 고장 및 경고성 만족도\n",
        "- $Gender$: 성별 (1:남자, 2:여자)\n",
        "- $Age$: 나이 (1: 10대, 2:20대, $\\ldots$)\n",
        "- $Y$: 구입 의향 점수\n",
        "\n"
      ]
    },
    {
      "cell_type": "markdown",
      "metadata": {
        "id": "3sbyxHfegZu8"
      },
      "source": [
        "### 데이터 호출\n",
        "- 500개, 200개의 두 데이터셋으로 나누어 하나는 훈련 자료, 하나는 시험 자료로 사용."
      ]
    },
    {
      "cell_type": "code",
      "execution_count": 26,
      "metadata": {
        "id": "rI--gb3EgZu8"
      },
      "outputs": [],
      "source": [
        "data_file = \"/content/gdrive/MyDrive/data/Satisfaction.csv\"\n",
        "Satisfaction = pd.read_csv(data_file)\n",
        "\n",
        "Tr_Sat = Satisfaction.iloc[1:500,:]\n",
        "Ts_Sat = Satisfaction.iloc[500:700,:]"
      ]
    },
    {
      "cell_type": "markdown",
      "metadata": {
        "id": "Q1DoSh3bgZu9"
      },
      "source": [
        "### 3-1. 모형 적합하기\n",
        "- Age, Gender는 범주형 변수.\n",
        "- C()를 사용하여 모형을 범주현 변수로 취급할 수 있음."
      ]
    },
    {
      "cell_type": "code",
      "execution_count": 29,
      "metadata": {
        "id": "mrnHixQQgZu9"
      },
      "outputs": [],
      "source": [
        "SatFit = smf.ols(formula='Y~X1+X2+X3+X4+C(Age)+ \\\n",
        "                 C(Gender)', data=Tr_Sat).fit()"
      ]
    },
    {
      "cell_type": "code",
      "execution_count": 30,
      "metadata": {
        "colab": {
          "base_uri": "https://localhost:8080/"
        },
        "id": "k01N7u0qgZu9",
        "outputId": "bb81d4fe-fd94-4002-eef2-0437c5e8e184"
      },
      "outputs": [
        {
          "output_type": "stream",
          "name": "stdout",
          "text": [
            "                            OLS Regression Results                            \n",
            "==============================================================================\n",
            "Dep. Variable:                      Y   R-squared:                       0.160\n",
            "Model:                            OLS   Adj. R-squared:                  0.145\n",
            "Method:                 Least Squares   F-statistic:                     10.38\n",
            "Date:                Tue, 13 Sep 2022   Prob (F-statistic):           9.78e-15\n",
            "Time:                        06:39:27   Log-Likelihood:                -783.24\n",
            "No. Observations:                 499   AIC:                             1586.\n",
            "Df Residuals:                     489   BIC:                             1629.\n",
            "Df Model:                           9                                         \n",
            "Covariance Type:            nonrobust                                         \n",
            "==================================================================================\n",
            "                     coef    std err          t      P>|t|      [0.025      0.975]\n",
            "----------------------------------------------------------------------------------\n",
            "Intercept          1.6812      0.424      3.968      0.000       0.849       2.514\n",
            "C(Age)[T.2]       -0.2759      0.201     -1.371      0.171      -0.671       0.119\n",
            "C(Age)[T.3]       -0.3303      0.211     -1.564      0.118      -0.745       0.085\n",
            "C(Age)[T.4]       -0.1304      0.211     -0.617      0.537      -0.546       0.285\n",
            "C(Age)[T.5]       -0.0671      0.194     -0.347      0.729      -0.447       0.313\n",
            "C(Gender)[T.2]     0.1902      0.109      1.741      0.082      -0.024       0.405\n",
            "X1                 0.1249      0.063      1.969      0.050       0.000       0.249\n",
            "X2                 0.0524      0.074      0.707      0.480      -0.093       0.198\n",
            "X3                 0.3846      0.079      4.875      0.000       0.230       0.540\n",
            "X4                 0.0687      0.060      1.143      0.254      -0.049       0.187\n",
            "==============================================================================\n",
            "Omnibus:                      106.795   Durbin-Watson:                   1.794\n",
            "Prob(Omnibus):                  0.000   Jarque-Bera (JB):              448.227\n",
            "Skew:                           0.891   Prob(JB):                     4.66e-98\n",
            "Kurtosis:                       7.287   Cond. No.                         95.1\n",
            "==============================================================================\n",
            "\n",
            "Notes:\n",
            "[1] Standard Errors assume that the covariance matrix of the errors is correctly specified.\n"
          ]
        }
      ],
      "source": [
        "## 적합 모형의 전체 정보\n",
        "print(SatFit.summary())"
      ]
    },
    {
      "cell_type": "code",
      "execution_count": 31,
      "metadata": {
        "colab": {
          "base_uri": "https://localhost:8080/"
        },
        "id": "NgCQurVUgZu9",
        "outputId": "1db1b91f-7935-4beb-a758-495cece0d0ad"
      },
      "outputs": [
        {
          "output_type": "stream",
          "name": "stdout",
          "text": [
            "Intercept         1.68115\n",
            "C(Age)[T.2]      -0.27592\n",
            "C(Age)[T.3]      -0.33035\n",
            "C(Age)[T.4]      -0.13041\n",
            "C(Age)[T.5]      -0.06705\n",
            "C(Gender)[T.2]    0.19021\n",
            "X1                0.12487\n",
            "X2                0.05236\n",
            "X3                0.38463\n",
            "X4                0.06871\n",
            "dtype: float64\n"
          ]
        }
      ],
      "source": [
        "## 적합 모형의 추정 계수 정보만 따로 추출\n",
        "print(SatFit.params.round(5))"
      ]
    },
    {
      "cell_type": "code",
      "execution_count": 33,
      "metadata": {
        "id": "UUOsFreFgZu-"
      },
      "outputs": [],
      "source": [
        "SatFit2 = smf.ols(formula='Y~X1+X2+X3+X4+\\\n",
        "                 C(Age, Treatment(reference=5))+ \\\n",
        "                 C(Gender, Treatment(reference=2))', \\\n",
        "                  data=Tr_Sat).fit()"
      ]
    },
    {
      "cell_type": "code",
      "execution_count": 34,
      "metadata": {
        "colab": {
          "base_uri": "https://localhost:8080/"
        },
        "id": "Ij1P5v6-gZu-",
        "outputId": "6d590b47-e23d-434e-e3d8-20c160583477"
      },
      "outputs": [
        {
          "output_type": "stream",
          "name": "stdout",
          "text": [
            "Intercept                                 1.80431\n",
            "C(Age, Treatment(reference=5))[T.1]       0.06705\n",
            "C(Age, Treatment(reference=5))[T.2]      -0.20886\n",
            "C(Age, Treatment(reference=5))[T.3]      -0.26329\n",
            "C(Age, Treatment(reference=5))[T.4]      -0.06335\n",
            "C(Gender, Treatment(reference=2))[T.1]   -0.19021\n",
            "X1                                        0.12487\n",
            "X2                                        0.05236\n",
            "X3                                        0.38463\n",
            "X4                                        0.06871\n",
            "dtype: float64\n"
          ]
        }
      ],
      "source": [
        "print(SatFit2.params.round(5))"
      ]
    },
    {
      "cell_type": "code",
      "execution_count": 35,
      "metadata": {
        "colab": {
          "base_uri": "https://localhost:8080/",
          "height": 143
        },
        "id": "xIutjQNQgZu-",
        "outputId": "d7a97076-5a11-4072-dc5e-60235f602c3f"
      },
      "outputs": [
        {
          "output_type": "execute_result",
          "data": {
            "text/plain": [
              "    mean  mean_se  mean_ci_lower  mean_ci_upper  obs_ci_lower  obs_ci_upper\n",
              "0  4.817    0.136          4.549          5.085         2.494         7.140\n",
              "1  4.585    0.182          4.228          4.943         2.250         6.921\n",
              "2  5.324    0.146          5.037          5.612         2.999         7.650"
            ],
            "text/html": [
              "\n",
              "  <div id=\"df-1daab48b-1149-4d44-9e91-ccb4fbd0ee0c\">\n",
              "    <div class=\"colab-df-container\">\n",
              "      <div>\n",
              "<style scoped>\n",
              "    .dataframe tbody tr th:only-of-type {\n",
              "        vertical-align: middle;\n",
              "    }\n",
              "\n",
              "    .dataframe tbody tr th {\n",
              "        vertical-align: top;\n",
              "    }\n",
              "\n",
              "    .dataframe thead th {\n",
              "        text-align: right;\n",
              "    }\n",
              "</style>\n",
              "<table border=\"1\" class=\"dataframe\">\n",
              "  <thead>\n",
              "    <tr style=\"text-align: right;\">\n",
              "      <th></th>\n",
              "      <th>mean</th>\n",
              "      <th>mean_se</th>\n",
              "      <th>mean_ci_lower</th>\n",
              "      <th>mean_ci_upper</th>\n",
              "      <th>obs_ci_lower</th>\n",
              "      <th>obs_ci_upper</th>\n",
              "    </tr>\n",
              "  </thead>\n",
              "  <tbody>\n",
              "    <tr>\n",
              "      <th>0</th>\n",
              "      <td>4.817</td>\n",
              "      <td>0.136</td>\n",
              "      <td>4.549</td>\n",
              "      <td>5.085</td>\n",
              "      <td>2.494</td>\n",
              "      <td>7.140</td>\n",
              "    </tr>\n",
              "    <tr>\n",
              "      <th>1</th>\n",
              "      <td>4.585</td>\n",
              "      <td>0.182</td>\n",
              "      <td>4.228</td>\n",
              "      <td>4.943</td>\n",
              "      <td>2.250</td>\n",
              "      <td>6.921</td>\n",
              "    </tr>\n",
              "    <tr>\n",
              "      <th>2</th>\n",
              "      <td>5.324</td>\n",
              "      <td>0.146</td>\n",
              "      <td>5.037</td>\n",
              "      <td>5.612</td>\n",
              "      <td>2.999</td>\n",
              "      <td>7.650</td>\n",
              "    </tr>\n",
              "  </tbody>\n",
              "</table>\n",
              "</div>\n",
              "      <button class=\"colab-df-convert\" onclick=\"convertToInteractive('df-1daab48b-1149-4d44-9e91-ccb4fbd0ee0c')\"\n",
              "              title=\"Convert this dataframe to an interactive table.\"\n",
              "              style=\"display:none;\">\n",
              "        \n",
              "  <svg xmlns=\"http://www.w3.org/2000/svg\" height=\"24px\"viewBox=\"0 0 24 24\"\n",
              "       width=\"24px\">\n",
              "    <path d=\"M0 0h24v24H0V0z\" fill=\"none\"/>\n",
              "    <path d=\"M18.56 5.44l.94 2.06.94-2.06 2.06-.94-2.06-.94-.94-2.06-.94 2.06-2.06.94zm-11 1L8.5 8.5l.94-2.06 2.06-.94-2.06-.94L8.5 2.5l-.94 2.06-2.06.94zm10 10l.94 2.06.94-2.06 2.06-.94-2.06-.94-.94-2.06-.94 2.06-2.06.94z\"/><path d=\"M17.41 7.96l-1.37-1.37c-.4-.4-.92-.59-1.43-.59-.52 0-1.04.2-1.43.59L10.3 9.45l-7.72 7.72c-.78.78-.78 2.05 0 2.83L4 21.41c.39.39.9.59 1.41.59.51 0 1.02-.2 1.41-.59l7.78-7.78 2.81-2.81c.8-.78.8-2.07 0-2.86zM5.41 20L4 18.59l7.72-7.72 1.47 1.35L5.41 20z\"/>\n",
              "  </svg>\n",
              "      </button>\n",
              "      \n",
              "  <style>\n",
              "    .colab-df-container {\n",
              "      display:flex;\n",
              "      flex-wrap:wrap;\n",
              "      gap: 12px;\n",
              "    }\n",
              "\n",
              "    .colab-df-convert {\n",
              "      background-color: #E8F0FE;\n",
              "      border: none;\n",
              "      border-radius: 50%;\n",
              "      cursor: pointer;\n",
              "      display: none;\n",
              "      fill: #1967D2;\n",
              "      height: 32px;\n",
              "      padding: 0 0 0 0;\n",
              "      width: 32px;\n",
              "    }\n",
              "\n",
              "    .colab-df-convert:hover {\n",
              "      background-color: #E2EBFA;\n",
              "      box-shadow: 0px 1px 2px rgba(60, 64, 67, 0.3), 0px 1px 3px 1px rgba(60, 64, 67, 0.15);\n",
              "      fill: #174EA6;\n",
              "    }\n",
              "\n",
              "    [theme=dark] .colab-df-convert {\n",
              "      background-color: #3B4455;\n",
              "      fill: #D2E3FC;\n",
              "    }\n",
              "\n",
              "    [theme=dark] .colab-df-convert:hover {\n",
              "      background-color: #434B5C;\n",
              "      box-shadow: 0px 1px 3px 1px rgba(0, 0, 0, 0.15);\n",
              "      filter: drop-shadow(0px 1px 2px rgba(0, 0, 0, 0.3));\n",
              "      fill: #FFFFFF;\n",
              "    }\n",
              "  </style>\n",
              "\n",
              "      <script>\n",
              "        const buttonEl =\n",
              "          document.querySelector('#df-1daab48b-1149-4d44-9e91-ccb4fbd0ee0c button.colab-df-convert');\n",
              "        buttonEl.style.display =\n",
              "          google.colab.kernel.accessAllowed ? 'block' : 'none';\n",
              "\n",
              "        async function convertToInteractive(key) {\n",
              "          const element = document.querySelector('#df-1daab48b-1149-4d44-9e91-ccb4fbd0ee0c');\n",
              "          const dataTable =\n",
              "            await google.colab.kernel.invokeFunction('convertToInteractive',\n",
              "                                                     [key], {});\n",
              "          if (!dataTable) return;\n",
              "\n",
              "          const docLinkHtml = 'Like what you see? Visit the ' +\n",
              "            '<a target=\"_blank\" href=https://colab.research.google.com/notebooks/data_table.ipynb>data table notebook</a>'\n",
              "            + ' to learn more about interactive tables.';\n",
              "          element.innerHTML = '';\n",
              "          dataTable['output_type'] = 'display_data';\n",
              "          await google.colab.output.renderOutput(dataTable, element);\n",
              "          const docLink = document.createElement('div');\n",
              "          docLink.innerHTML = docLinkHtml;\n",
              "          element.appendChild(docLink);\n",
              "        }\n",
              "      </script>\n",
              "    </div>\n",
              "  </div>\n",
              "  "
            ]
          },
          "metadata": {},
          "execution_count": 35
        }
      ],
      "source": [
        "## 예측해보기\n",
        "predictions = SatFit.get_prediction(Ts_Sat)\n",
        "predictions.summary_frame(alpha=0.05).round(3).iloc[0:3]"
      ]
    }
  ],
  "metadata": {
    "kernelspec": {
      "display_name": "Python 3.6",
      "language": "python",
      "name": "python3.6"
    },
    "language_info": {
      "codemirror_mode": {
        "name": "ipython",
        "version": 3
      },
      "file_extension": ".py",
      "mimetype": "text/x-python",
      "name": "python",
      "nbconvert_exporter": "python",
      "pygments_lexer": "ipython3",
      "version": "3.6.12"
    },
    "colab": {
      "provenance": [],
      "collapsed_sections": []
    }
  },
  "nbformat": 4,
  "nbformat_minor": 0
}