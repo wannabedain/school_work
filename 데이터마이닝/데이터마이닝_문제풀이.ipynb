{
  "nbformat": 4,
  "nbformat_minor": 0,
  "metadata": {
    "colab": {
      "provenance": [],
      "collapsed_sections": []
    },
    "kernelspec": {
      "name": "python3",
      "display_name": "Python 3"
    },
    "language_info": {
      "name": "python"
    },
    "accelerator": "GPU"
  },
  "cells": [
    {
      "cell_type": "code",
      "execution_count": 46,
      "metadata": {
        "id": "e5tmRbQHhY5l"
      },
      "outputs": [],
      "source": [
        "import os\n",
        "import numpy as np\n",
        "import pandas as pd\n",
        "import seaborn as sns\n",
        "import matplotlib.pyplot as plt\n",
        "import statsmodels.formula.api as smf\n",
        "import time  \n",
        "import sklearn.metrics\n",
        "from sklearn.model_selection import train_test_split\n",
        "from sklearn.linear_model import LogisticRegression\n",
        "from sklearn.linear_model import Ridge, Lasso\n",
        "\n",
        "from sklearn import preprocessing\n",
        "from sklearn.model_selection import cross_val_score\n",
        "from sklearn.decomposition import PCA\n",
        "import statsmodels.formula.api as smf"
      ]
    },
    {
      "cell_type": "code",
      "source": [
        "from google.colab import drive\n",
        "drive.mount('/content/drive')"
      ],
      "metadata": {
        "colab": {
          "base_uri": "https://localhost:8080/"
        },
        "id": "qUesmbPhhqg5",
        "outputId": "046d3ae5-76fc-4dba-8ebd-104358bee416"
      },
      "execution_count": 3,
      "outputs": [
        {
          "output_type": "stream",
          "name": "stdout",
          "text": [
            "Drive already mounted at /content/drive; to attempt to forcibly remount, call drive.mount(\"/content/drive\", force_remount=True).\n"
          ]
        }
      ]
    },
    {
      "cell_type": "code",
      "source": [
        "data_file = \"/content/drive/MyDrive/Colab Notebook_2022_2semester/datamining/data/cars.csv\"\n",
        "car = pd.read_csv(data_file)\n",
        "print(car.shape)\n",
        "car.head()"
      ],
      "metadata": {
        "colab": {
          "base_uri": "https://localhost:8080/",
          "height": 224
        },
        "id": "yjvV4Rn5hxBQ",
        "outputId": "ec68997c-a690-484e-c99a-d9944c8b1ded"
      },
      "execution_count": 6,
      "outputs": [
        {
          "output_type": "stream",
          "name": "stdout",
          "text": [
            "(50, 2)\n"
          ]
        },
        {
          "output_type": "execute_result",
          "data": {
            "text/plain": [
              "   speed  dist\n",
              "0      4     2\n",
              "1      4    10\n",
              "2      7     4\n",
              "3      7    22\n",
              "4      8    16"
            ],
            "text/html": [
              "\n",
              "  <div id=\"df-a5f76cab-7ba1-40b0-808d-fe1a7b9f1d33\">\n",
              "    <div class=\"colab-df-container\">\n",
              "      <div>\n",
              "<style scoped>\n",
              "    .dataframe tbody tr th:only-of-type {\n",
              "        vertical-align: middle;\n",
              "    }\n",
              "\n",
              "    .dataframe tbody tr th {\n",
              "        vertical-align: top;\n",
              "    }\n",
              "\n",
              "    .dataframe thead th {\n",
              "        text-align: right;\n",
              "    }\n",
              "</style>\n",
              "<table border=\"1\" class=\"dataframe\">\n",
              "  <thead>\n",
              "    <tr style=\"text-align: right;\">\n",
              "      <th></th>\n",
              "      <th>speed</th>\n",
              "      <th>dist</th>\n",
              "    </tr>\n",
              "  </thead>\n",
              "  <tbody>\n",
              "    <tr>\n",
              "      <th>0</th>\n",
              "      <td>4</td>\n",
              "      <td>2</td>\n",
              "    </tr>\n",
              "    <tr>\n",
              "      <th>1</th>\n",
              "      <td>4</td>\n",
              "      <td>10</td>\n",
              "    </tr>\n",
              "    <tr>\n",
              "      <th>2</th>\n",
              "      <td>7</td>\n",
              "      <td>4</td>\n",
              "    </tr>\n",
              "    <tr>\n",
              "      <th>3</th>\n",
              "      <td>7</td>\n",
              "      <td>22</td>\n",
              "    </tr>\n",
              "    <tr>\n",
              "      <th>4</th>\n",
              "      <td>8</td>\n",
              "      <td>16</td>\n",
              "    </tr>\n",
              "  </tbody>\n",
              "</table>\n",
              "</div>\n",
              "      <button class=\"colab-df-convert\" onclick=\"convertToInteractive('df-a5f76cab-7ba1-40b0-808d-fe1a7b9f1d33')\"\n",
              "              title=\"Convert this dataframe to an interactive table.\"\n",
              "              style=\"display:none;\">\n",
              "        \n",
              "  <svg xmlns=\"http://www.w3.org/2000/svg\" height=\"24px\"viewBox=\"0 0 24 24\"\n",
              "       width=\"24px\">\n",
              "    <path d=\"M0 0h24v24H0V0z\" fill=\"none\"/>\n",
              "    <path d=\"M18.56 5.44l.94 2.06.94-2.06 2.06-.94-2.06-.94-.94-2.06-.94 2.06-2.06.94zm-11 1L8.5 8.5l.94-2.06 2.06-.94-2.06-.94L8.5 2.5l-.94 2.06-2.06.94zm10 10l.94 2.06.94-2.06 2.06-.94-2.06-.94-.94-2.06-.94 2.06-2.06.94z\"/><path d=\"M17.41 7.96l-1.37-1.37c-.4-.4-.92-.59-1.43-.59-.52 0-1.04.2-1.43.59L10.3 9.45l-7.72 7.72c-.78.78-.78 2.05 0 2.83L4 21.41c.39.39.9.59 1.41.59.51 0 1.02-.2 1.41-.59l7.78-7.78 2.81-2.81c.8-.78.8-2.07 0-2.86zM5.41 20L4 18.59l7.72-7.72 1.47 1.35L5.41 20z\"/>\n",
              "  </svg>\n",
              "      </button>\n",
              "      \n",
              "  <style>\n",
              "    .colab-df-container {\n",
              "      display:flex;\n",
              "      flex-wrap:wrap;\n",
              "      gap: 12px;\n",
              "    }\n",
              "\n",
              "    .colab-df-convert {\n",
              "      background-color: #E8F0FE;\n",
              "      border: none;\n",
              "      border-radius: 50%;\n",
              "      cursor: pointer;\n",
              "      display: none;\n",
              "      fill: #1967D2;\n",
              "      height: 32px;\n",
              "      padding: 0 0 0 0;\n",
              "      width: 32px;\n",
              "    }\n",
              "\n",
              "    .colab-df-convert:hover {\n",
              "      background-color: #E2EBFA;\n",
              "      box-shadow: 0px 1px 2px rgba(60, 64, 67, 0.3), 0px 1px 3px 1px rgba(60, 64, 67, 0.15);\n",
              "      fill: #174EA6;\n",
              "    }\n",
              "\n",
              "    [theme=dark] .colab-df-convert {\n",
              "      background-color: #3B4455;\n",
              "      fill: #D2E3FC;\n",
              "    }\n",
              "\n",
              "    [theme=dark] .colab-df-convert:hover {\n",
              "      background-color: #434B5C;\n",
              "      box-shadow: 0px 1px 3px 1px rgba(0, 0, 0, 0.15);\n",
              "      filter: drop-shadow(0px 1px 2px rgba(0, 0, 0, 0.3));\n",
              "      fill: #FFFFFF;\n",
              "    }\n",
              "  </style>\n",
              "\n",
              "      <script>\n",
              "        const buttonEl =\n",
              "          document.querySelector('#df-a5f76cab-7ba1-40b0-808d-fe1a7b9f1d33 button.colab-df-convert');\n",
              "        buttonEl.style.display =\n",
              "          google.colab.kernel.accessAllowed ? 'block' : 'none';\n",
              "\n",
              "        async function convertToInteractive(key) {\n",
              "          const element = document.querySelector('#df-a5f76cab-7ba1-40b0-808d-fe1a7b9f1d33');\n",
              "          const dataTable =\n",
              "            await google.colab.kernel.invokeFunction('convertToInteractive',\n",
              "                                                     [key], {});\n",
              "          if (!dataTable) return;\n",
              "\n",
              "          const docLinkHtml = 'Like what you see? Visit the ' +\n",
              "            '<a target=\"_blank\" href=https://colab.research.google.com/notebooks/data_table.ipynb>data table notebook</a>'\n",
              "            + ' to learn more about interactive tables.';\n",
              "          element.innerHTML = '';\n",
              "          dataTable['output_type'] = 'display_data';\n",
              "          await google.colab.output.renderOutput(dataTable, element);\n",
              "          const docLink = document.createElement('div');\n",
              "          docLink.innerHTML = docLinkHtml;\n",
              "          element.appendChild(docLink);\n",
              "        }\n",
              "      </script>\n",
              "    </div>\n",
              "  </div>\n",
              "  "
            ]
          },
          "metadata": {},
          "execution_count": 6
        }
      ]
    },
    {
      "cell_type": "markdown",
      "source": [
        "# 2 번 -(a)"
      ],
      "metadata": {
        "id": "tRI0-3lFhdom"
      }
    },
    {
      "cell_type": "code",
      "source": [
        "## 단순선형회귀분석 적합\n",
        "carsFit = smf.ols(formula='dist~ speed', data= car).fit()\n",
        "print(carsFit.summary())"
      ],
      "metadata": {
        "colab": {
          "base_uri": "https://localhost:8080/"
        },
        "id": "5f9Q_7g8iDoT",
        "outputId": "57ebb3b2-09ef-4ef4-a4e3-97829692ed04"
      },
      "execution_count": 10,
      "outputs": [
        {
          "output_type": "stream",
          "name": "stdout",
          "text": [
            "                            OLS Regression Results                            \n",
            "==============================================================================\n",
            "Dep. Variable:                   dist   R-squared:                       0.651\n",
            "Model:                            OLS   Adj. R-squared:                  0.644\n",
            "Method:                 Least Squares   F-statistic:                     89.57\n",
            "Date:                Wed, 26 Oct 2022   Prob (F-statistic):           1.49e-12\n",
            "Time:                        00:34:47   Log-Likelihood:                -206.58\n",
            "No. Observations:                  50   AIC:                             417.2\n",
            "Df Residuals:                      48   BIC:                             421.0\n",
            "Df Model:                           1                                         \n",
            "Covariance Type:            nonrobust                                         \n",
            "==============================================================================\n",
            "                 coef    std err          t      P>|t|      [0.025      0.975]\n",
            "------------------------------------------------------------------------------\n",
            "Intercept    -17.5791      6.758     -2.601      0.012     -31.168      -3.990\n",
            "speed          3.9324      0.416      9.464      0.000       3.097       4.768\n",
            "==============================================================================\n",
            "Omnibus:                        8.975   Durbin-Watson:                   1.676\n",
            "Prob(Omnibus):                  0.011   Jarque-Bera (JB):                8.189\n",
            "Skew:                           0.885   Prob(JB):                       0.0167\n",
            "Kurtosis:                       3.893   Cond. No.                         50.7\n",
            "==============================================================================\n",
            "\n",
            "Notes:\n",
            "[1] Standard Errors assume that the covariance matrix of the errors is correctly specified.\n"
          ]
        }
      ]
    },
    {
      "cell_type": "markdown",
      "source": [
        "- dist = -17.5791 +  3.9324 * speed \n",
        "- speed 가 1 증가할 때마다 dist는 3.9324씩 증가한다."
      ],
      "metadata": {
        "id": "-A2Z1TfIsjN8"
      }
    },
    {
      "cell_type": "markdown",
      "source": [
        "# 2 번 - (b)"
      ],
      "metadata": {
        "id": "eM65rXSstCjh"
      }
    },
    {
      "cell_type": "code",
      "source": [
        "## 적합된 모형을 이용한 적합값 및 신뢰구간\n",
        "predictions = carsFit.get_prediction()\n",
        "predictions.summary_frame(alpha=0.05).round(3).iloc[0:3]"
      ],
      "metadata": {
        "colab": {
          "base_uri": "https://localhost:8080/",
          "height": 143
        },
        "id": "0FmKdXOFs3Qx",
        "outputId": "21823e5c-1c3b-4c4f-ad60-bb7f77f02801"
      },
      "execution_count": 11,
      "outputs": [
        {
          "output_type": "execute_result",
          "data": {
            "text/plain": [
              "    mean  mean_se  mean_ci_lower  mean_ci_upper  obs_ci_lower  obs_ci_upper\n",
              "0 -1.849    5.212        -12.330          8.631       -34.500        30.801\n",
              "1 -1.849    5.212        -12.330          8.631       -34.500        30.801\n",
              "2  9.948    4.113          1.679         18.217       -22.061        41.957"
            ],
            "text/html": [
              "\n",
              "  <div id=\"df-30fecd37-892d-474e-ae3d-8f1c55bb429a\">\n",
              "    <div class=\"colab-df-container\">\n",
              "      <div>\n",
              "<style scoped>\n",
              "    .dataframe tbody tr th:only-of-type {\n",
              "        vertical-align: middle;\n",
              "    }\n",
              "\n",
              "    .dataframe tbody tr th {\n",
              "        vertical-align: top;\n",
              "    }\n",
              "\n",
              "    .dataframe thead th {\n",
              "        text-align: right;\n",
              "    }\n",
              "</style>\n",
              "<table border=\"1\" class=\"dataframe\">\n",
              "  <thead>\n",
              "    <tr style=\"text-align: right;\">\n",
              "      <th></th>\n",
              "      <th>mean</th>\n",
              "      <th>mean_se</th>\n",
              "      <th>mean_ci_lower</th>\n",
              "      <th>mean_ci_upper</th>\n",
              "      <th>obs_ci_lower</th>\n",
              "      <th>obs_ci_upper</th>\n",
              "    </tr>\n",
              "  </thead>\n",
              "  <tbody>\n",
              "    <tr>\n",
              "      <th>0</th>\n",
              "      <td>-1.849</td>\n",
              "      <td>5.212</td>\n",
              "      <td>-12.330</td>\n",
              "      <td>8.631</td>\n",
              "      <td>-34.500</td>\n",
              "      <td>30.801</td>\n",
              "    </tr>\n",
              "    <tr>\n",
              "      <th>1</th>\n",
              "      <td>-1.849</td>\n",
              "      <td>5.212</td>\n",
              "      <td>-12.330</td>\n",
              "      <td>8.631</td>\n",
              "      <td>-34.500</td>\n",
              "      <td>30.801</td>\n",
              "    </tr>\n",
              "    <tr>\n",
              "      <th>2</th>\n",
              "      <td>9.948</td>\n",
              "      <td>4.113</td>\n",
              "      <td>1.679</td>\n",
              "      <td>18.217</td>\n",
              "      <td>-22.061</td>\n",
              "      <td>41.957</td>\n",
              "    </tr>\n",
              "  </tbody>\n",
              "</table>\n",
              "</div>\n",
              "      <button class=\"colab-df-convert\" onclick=\"convertToInteractive('df-30fecd37-892d-474e-ae3d-8f1c55bb429a')\"\n",
              "              title=\"Convert this dataframe to an interactive table.\"\n",
              "              style=\"display:none;\">\n",
              "        \n",
              "  <svg xmlns=\"http://www.w3.org/2000/svg\" height=\"24px\"viewBox=\"0 0 24 24\"\n",
              "       width=\"24px\">\n",
              "    <path d=\"M0 0h24v24H0V0z\" fill=\"none\"/>\n",
              "    <path d=\"M18.56 5.44l.94 2.06.94-2.06 2.06-.94-2.06-.94-.94-2.06-.94 2.06-2.06.94zm-11 1L8.5 8.5l.94-2.06 2.06-.94-2.06-.94L8.5 2.5l-.94 2.06-2.06.94zm10 10l.94 2.06.94-2.06 2.06-.94-2.06-.94-.94-2.06-.94 2.06-2.06.94z\"/><path d=\"M17.41 7.96l-1.37-1.37c-.4-.4-.92-.59-1.43-.59-.52 0-1.04.2-1.43.59L10.3 9.45l-7.72 7.72c-.78.78-.78 2.05 0 2.83L4 21.41c.39.39.9.59 1.41.59.51 0 1.02-.2 1.41-.59l7.78-7.78 2.81-2.81c.8-.78.8-2.07 0-2.86zM5.41 20L4 18.59l7.72-7.72 1.47 1.35L5.41 20z\"/>\n",
              "  </svg>\n",
              "      </button>\n",
              "      \n",
              "  <style>\n",
              "    .colab-df-container {\n",
              "      display:flex;\n",
              "      flex-wrap:wrap;\n",
              "      gap: 12px;\n",
              "    }\n",
              "\n",
              "    .colab-df-convert {\n",
              "      background-color: #E8F0FE;\n",
              "      border: none;\n",
              "      border-radius: 50%;\n",
              "      cursor: pointer;\n",
              "      display: none;\n",
              "      fill: #1967D2;\n",
              "      height: 32px;\n",
              "      padding: 0 0 0 0;\n",
              "      width: 32px;\n",
              "    }\n",
              "\n",
              "    .colab-df-convert:hover {\n",
              "      background-color: #E2EBFA;\n",
              "      box-shadow: 0px 1px 2px rgba(60, 64, 67, 0.3), 0px 1px 3px 1px rgba(60, 64, 67, 0.15);\n",
              "      fill: #174EA6;\n",
              "    }\n",
              "\n",
              "    [theme=dark] .colab-df-convert {\n",
              "      background-color: #3B4455;\n",
              "      fill: #D2E3FC;\n",
              "    }\n",
              "\n",
              "    [theme=dark] .colab-df-convert:hover {\n",
              "      background-color: #434B5C;\n",
              "      box-shadow: 0px 1px 3px 1px rgba(0, 0, 0, 0.15);\n",
              "      filter: drop-shadow(0px 1px 2px rgba(0, 0, 0, 0.3));\n",
              "      fill: #FFFFFF;\n",
              "    }\n",
              "  </style>\n",
              "\n",
              "      <script>\n",
              "        const buttonEl =\n",
              "          document.querySelector('#df-30fecd37-892d-474e-ae3d-8f1c55bb429a button.colab-df-convert');\n",
              "        buttonEl.style.display =\n",
              "          google.colab.kernel.accessAllowed ? 'block' : 'none';\n",
              "\n",
              "        async function convertToInteractive(key) {\n",
              "          const element = document.querySelector('#df-30fecd37-892d-474e-ae3d-8f1c55bb429a');\n",
              "          const dataTable =\n",
              "            await google.colab.kernel.invokeFunction('convertToInteractive',\n",
              "                                                     [key], {});\n",
              "          if (!dataTable) return;\n",
              "\n",
              "          const docLinkHtml = 'Like what you see? Visit the ' +\n",
              "            '<a target=\"_blank\" href=https://colab.research.google.com/notebooks/data_table.ipynb>data table notebook</a>'\n",
              "            + ' to learn more about interactive tables.';\n",
              "          element.innerHTML = '';\n",
              "          dataTable['output_type'] = 'display_data';\n",
              "          await google.colab.output.renderOutput(dataTable, element);\n",
              "          const docLink = document.createElement('div');\n",
              "          docLink.innerHTML = docLinkHtml;\n",
              "          element.appendChild(docLink);\n",
              "        }\n",
              "      </script>\n",
              "    </div>\n",
              "  </div>\n",
              "  "
            ]
          },
          "metadata": {},
          "execution_count": 11
        }
      ]
    },
    {
      "cell_type": "code",
      "source": [
        "Fitted = carsFit.predict()\n",
        "Residual = carsFit.resid\n",
        "RStandard = carsFit.resid_pearson\n",
        "\n",
        "## 잔차, 표준화잔차의 탐색\n",
        "print(pd.DataFrame({'Fitted': Fitted, 'Residual': Residual, \\\n",
        "                    'RStandard': RStandard}).iloc[0:5])\n",
        "\n",
        "## 잔차 도표\n",
        "fig, ax = plt.subplots(figsize=(10,8))\n",
        "sns.scatterplot(x=Fitted,y=RStandard, s=150)\n",
        "ax.xaxis.set_tick_params(labelsize=15)\n",
        "ax.yaxis.set_tick_params(labelsize=15)\n",
        "ax.axhline(y=0)"
      ],
      "metadata": {
        "colab": {
          "base_uri": "https://localhost:8080/",
          "height": 618
        },
        "id": "G-GWrxdKtiX6",
        "outputId": "9fb5a5a6-c3f1-4388-901f-4c03e0bdc2b0"
      },
      "execution_count": 15,
      "outputs": [
        {
          "output_type": "stream",
          "name": "stdout",
          "text": [
            "      Fitted   Residual  RStandard\n",
            "0  -1.849460   3.849460   0.250297\n",
            "1  -1.849460  11.849460   0.770467\n",
            "2   9.947766  -5.947766  -0.386731\n",
            "3   9.947766  12.052234   0.783651\n",
            "4  13.880175   2.119825   0.137834\n"
          ]
        },
        {
          "output_type": "execute_result",
          "data": {
            "text/plain": [
              "<matplotlib.lines.Line2D at 0x7f27cf88e110>"
            ]
          },
          "metadata": {},
          "execution_count": 15
        },
        {
          "output_type": "display_data",
          "data": {
            "text/plain": [
              "<Figure size 720x576 with 1 Axes>"
            ],
            "image/png": "[encoded data removed]"
          },
          "metadata": {
            "needs_background": "light"
          }
        }
      ]
    },
    {
      "cell_type": "code",
      "source": [
        "from scipy.stats import probplot\n",
        "## Q-Q plot\n",
        "probplot(RStandard, plot=plt)"
      ],
      "metadata": {
        "colab": {
          "base_uri": "https://localhost:8080/",
          "height": 678
        },
        "id": "_5xwch53t7oC",
        "outputId": "33b5196e-1d72-4581-b50c-b673f59bc79d"
      },
      "execution_count": 16,
      "outputs": [
        {
          "output_type": "execute_result",
          "data": {
            "text/plain": [
              "((array([-2.20385432, -1.83293478, -1.61402323, -1.45296849, -1.32267759,\n",
              "         -1.21163342, -1.113805  , -1.02561527, -0.94475674, -0.86964726,\n",
              "         -0.79915021, -0.73241807, -0.66879925, -0.6077796 , -0.54894415,\n",
              "         -0.49195112, -0.43651377, -0.38238727, -0.32935914, -0.27724191,\n",
              "         -0.2258675 , -0.17508277, -0.12474591, -0.07472335, -0.02488719,\n",
              "          0.02488719,  0.07472335,  0.12474591,  0.17508277,  0.2258675 ,\n",
              "          0.27724191,  0.32935914,  0.38238727,  0.43651377,  0.49195112,\n",
              "          0.54894415,  0.6077796 ,  0.66879925,  0.73241807,  0.79915021,\n",
              "          0.86964726,  0.94475674,  1.02561527,  1.113805  ,  1.21163342,\n",
              "          1.32267759,  1.45296849,  1.61402323,  1.83293478,  2.20385432]),\n",
              "  array([-1.89010802, -1.39191233, -1.37433287, -1.22671089, -1.12303759,\n",
              "         -1.01496942, -1.00178482, -0.86734744, -0.84976798, -0.74609467,\n",
              "         -0.7285152 , -0.72412034, -0.6248419 , -0.60286757, -0.58968296,\n",
              "         -0.56421552, -0.507984  , -0.49040453, -0.44206099, -0.38673122,\n",
              "         -0.36475689, -0.34717742, -0.32959795, -0.24350412, -0.19076571,\n",
              "         -0.10467188, -0.09588214,  0.0297655 ,  0.0297655 ,  0.04734496,\n",
              "          0.13783367,  0.15101827,  0.18178234,  0.19057207,  0.2502967 ,\n",
              "          0.27666591,  0.27756766,  0.70634723,  0.77046673,  0.78365133,\n",
              "          0.79683593,  0.81002053,  0.81881027,  0.98840658,  1.05342783,\n",
              "          1.46462793,  1.4822074 ,  2.00237742,  2.76505299,  2.80900166])),\n",
              " (0.9863751870353361, 5.400946589384033e-16, 0.9708888605738287))"
            ]
          },
          "metadata": {},
          "execution_count": 16
        },
        {
          "output_type": "display_data",
          "data": {
            "text/plain": [
              "<Figure size 432x288 with 1 Axes>"
            ],
            "image/png": "[encoded data removed]"
          },
          "metadata": {
            "needs_background": "light"
          }
        }
      ]
    },
    {
      "cell_type": "code",
      "source": [
        "from statsmodels.stats.stattools import durbin_watson\n",
        "print(durbin_watson(Residual).round(5))\n",
        "print(durbin_watson(RStandard).round(5))"
      ],
      "metadata": {
        "colab": {
          "base_uri": "https://localhost:8080/"
        },
        "id": "vDiI2HwMt-7F",
        "outputId": "4d5295f9-3833-4c43-e850-33546e498935"
      },
      "execution_count": 17,
      "outputs": [
        {
          "output_type": "stream",
          "name": "stdout",
          "text": [
            "1.67623\n",
            "1.67623\n"
          ]
        }
      ]
    },
    {
      "cell_type": "markdown",
      "source": [
        "- 잔차분석 결과, 일정 패턴이 없어 선형성 만족하지만, 점점 증가하는 경향을 보이므로 등분산성 가정을 의심해 볼 수 있다.\n",
        "- qq plot을 이용한 정규성 검토, (더빈-왓슨 통계량) 독립성 가정 검토를 한 결과, 1.67623로 독립성 가정에 큰 문제가 없음."
      ],
      "metadata": {
        "id": "yQ-KXzLquaAR"
      }
    },
    {
      "cell_type": "markdown",
      "source": [
        "# 3 -(a)\n"
      ],
      "metadata": {
        "id": "F0aEVooKv8mT"
      }
    },
    {
      "cell_type": "code",
      "source": [
        "## the import load_diabetes function\n",
        "from sklearn.datasets import load_diabetes\n",
        "## load the data\n",
        "diabetes = load_diabetes(as_frame=True)\n",
        "## split the data into two parts: x and y\n",
        "x_diabetes = diabetes.data\n",
        "y_diabetes = diabetes.target\n",
        "## standardization process\n",
        "x_diabetes /= x_diabetes.std()"
      ],
      "metadata": {
        "id": "6LgxTwzGuPYp"
      },
      "execution_count": 18,
      "outputs": []
    },
    {
      "cell_type": "code",
      "source": [
        "pca = PCA(n_components = 10)\n",
        "pca_components = pca.fit_transform(x_diabetes)\n",
        "pca_x = pd.DataFrame(data=pca_components,columns=\n",
        "                        ['pc1','pc2','pc3','pc4','pc5',\n",
        "                         'pc6','pc7','pc8','pc9','pc10'])\n",
        "pca_x.head()"
      ],
      "metadata": {
        "colab": {
          "base_uri": "https://localhost:8080/",
          "height": 206
        },
        "id": "rY0O27XSwKY_",
        "outputId": "5b6d4b91-7ee4-46b4-a9ce-8da63afdb6d2"
      },
      "execution_count": 21,
      "outputs": [
        {
          "output_type": "execute_result",
          "data": {
            "text/plain": [
              "        pc1       pc2       pc3       pc4       pc5       pc6       pc7  \\\n",
              "0  0.586543 -1.944624  0.588566 -0.082718 -0.256339 -1.010069 -0.179604   \n",
              "1 -2.828407  1.370532  0.027883 -0.469467 -0.143067 -1.011868  0.224160   \n",
              "2  0.271840 -1.633048  0.738434 -0.790579 -1.162504 -1.111546 -0.461883   \n",
              "3  0.049254  0.381821 -2.010758  1.371685  0.255239  0.444811  0.481601   \n",
              "4 -0.755595  0.811049 -0.057194 -0.137364 -0.133194 -0.813669  0.435957   \n",
              "\n",
              "        pc8       pc9      pc10  \n",
              "0  0.756587 -0.180872 -0.048901  \n",
              "1 -0.188194  0.504548  0.043540  \n",
              "2  0.842281 -0.025332 -0.054125  \n",
              "3 -0.367419 -0.137721 -0.074501  \n",
              "4 -1.058588  0.044248 -0.010881  "
            ],
            "text/html": [
              "\n",
              "  <div id=\"df-78c8e826-bdb0-421c-ba22-23711e06c58e\">\n",
              "    <div class=\"colab-df-container\">\n",
              "      <div>\n",
              "<style scoped>\n",
              "    .dataframe tbody tr th:only-of-type {\n",
              "        vertical-align: middle;\n",
              "    }\n",
              "\n",
              "    .dataframe tbody tr th {\n",
              "        vertical-align: top;\n",
              "    }\n",
              "\n",
              "    .dataframe thead th {\n",
              "        text-align: right;\n",
              "    }\n",
              "</style>\n",
              "<table border=\"1\" class=\"dataframe\">\n",
              "  <thead>\n",
              "    <tr style=\"text-align: right;\">\n",
              "      <th></th>\n",
              "      <th>pc1</th>\n",
              "      <th>pc2</th>\n",
              "      <th>pc3</th>\n",
              "      <th>pc4</th>\n",
              "      <th>pc5</th>\n",
              "      <th>pc6</th>\n",
              "      <th>pc7</th>\n",
              "      <th>pc8</th>\n",
              "      <th>pc9</th>\n",
              "      <th>pc10</th>\n",
              "    </tr>\n",
              "  </thead>\n",
              "  <tbody>\n",
              "    <tr>\n",
              "      <th>0</th>\n",
              "      <td>0.586543</td>\n",
              "      <td>-1.944624</td>\n",
              "      <td>0.588566</td>\n",
              "      <td>-0.082718</td>\n",
              "      <td>-0.256339</td>\n",
              "      <td>-1.010069</td>\n",
              "      <td>-0.179604</td>\n",
              "      <td>0.756587</td>\n",
              "      <td>-0.180872</td>\n",
              "      <td>-0.048901</td>\n",
              "    </tr>\n",
              "    <tr>\n",
              "      <th>1</th>\n",
              "      <td>-2.828407</td>\n",
              "      <td>1.370532</td>\n",
              "      <td>0.027883</td>\n",
              "      <td>-0.469467</td>\n",
              "      <td>-0.143067</td>\n",
              "      <td>-1.011868</td>\n",
              "      <td>0.224160</td>\n",
              "      <td>-0.188194</td>\n",
              "      <td>0.504548</td>\n",
              "      <td>0.043540</td>\n",
              "    </tr>\n",
              "    <tr>\n",
              "      <th>2</th>\n",
              "      <td>0.271840</td>\n",
              "      <td>-1.633048</td>\n",
              "      <td>0.738434</td>\n",
              "      <td>-0.790579</td>\n",
              "      <td>-1.162504</td>\n",
              "      <td>-1.111546</td>\n",
              "      <td>-0.461883</td>\n",
              "      <td>0.842281</td>\n",
              "      <td>-0.025332</td>\n",
              "      <td>-0.054125</td>\n",
              "    </tr>\n",
              "    <tr>\n",
              "      <th>3</th>\n",
              "      <td>0.049254</td>\n",
              "      <td>0.381821</td>\n",
              "      <td>-2.010758</td>\n",
              "      <td>1.371685</td>\n",
              "      <td>0.255239</td>\n",
              "      <td>0.444811</td>\n",
              "      <td>0.481601</td>\n",
              "      <td>-0.367419</td>\n",
              "      <td>-0.137721</td>\n",
              "      <td>-0.074501</td>\n",
              "    </tr>\n",
              "    <tr>\n",
              "      <th>4</th>\n",
              "      <td>-0.755595</td>\n",
              "      <td>0.811049</td>\n",
              "      <td>-0.057194</td>\n",
              "      <td>-0.137364</td>\n",
              "      <td>-0.133194</td>\n",
              "      <td>-0.813669</td>\n",
              "      <td>0.435957</td>\n",
              "      <td>-1.058588</td>\n",
              "      <td>0.044248</td>\n",
              "      <td>-0.010881</td>\n",
              "    </tr>\n",
              "  </tbody>\n",
              "</table>\n",
              "</div>\n",
              "      <button class=\"colab-df-convert\" onclick=\"convertToInteractive('df-78c8e826-bdb0-421c-ba22-23711e06c58e')\"\n",
              "              title=\"Convert this dataframe to an interactive table.\"\n",
              "              style=\"display:none;\">\n",
              "        \n",
              "  <svg xmlns=\"http://www.w3.org/2000/svg\" height=\"24px\"viewBox=\"0 0 24 24\"\n",
              "       width=\"24px\">\n",
              "    <path d=\"M0 0h24v24H0V0z\" fill=\"none\"/>\n",
              "    <path d=\"M18.56 5.44l.94 2.06.94-2.06 2.06-.94-2.06-.94-.94-2.06-.94 2.06-2.06.94zm-11 1L8.5 8.5l.94-2.06 2.06-.94-2.06-.94L8.5 2.5l-.94 2.06-2.06.94zm10 10l.94 2.06.94-2.06 2.06-.94-2.06-.94-.94-2.06-.94 2.06-2.06.94z\"/><path d=\"M17.41 7.96l-1.37-1.37c-.4-.4-.92-.59-1.43-.59-.52 0-1.04.2-1.43.59L10.3 9.45l-7.72 7.72c-.78.78-.78 2.05 0 2.83L4 21.41c.39.39.9.59 1.41.59.51 0 1.02-.2 1.41-.59l7.78-7.78 2.81-2.81c.8-.78.8-2.07 0-2.86zM5.41 20L4 18.59l7.72-7.72 1.47 1.35L5.41 20z\"/>\n",
              "  </svg>\n",
              "      </button>\n",
              "      \n",
              "  <style>\n",
              "    .colab-df-container {\n",
              "      display:flex;\n",
              "      flex-wrap:wrap;\n",
              "      gap: 12px;\n",
              "    }\n",
              "\n",
              "    .colab-df-convert {\n",
              "      background-color: #E8F0FE;\n",
              "      border: none;\n",
              "      border-radius: 50%;\n",
              "      cursor: pointer;\n",
              "      display: none;\n",
              "      fill: #1967D2;\n",
              "      height: 32px;\n",
              "      padding: 0 0 0 0;\n",
              "      width: 32px;\n",
              "    }\n",
              "\n",
              "    .colab-df-convert:hover {\n",
              "      background-color: #E2EBFA;\n",
              "      box-shadow: 0px 1px 2px rgba(60, 64, 67, 0.3), 0px 1px 3px 1px rgba(60, 64, 67, 0.15);\n",
              "      fill: #174EA6;\n",
              "    }\n",
              "\n",
              "    [theme=dark] .colab-df-convert {\n",
              "      background-color: #3B4455;\n",
              "      fill: #D2E3FC;\n",
              "    }\n",
              "\n",
              "    [theme=dark] .colab-df-convert:hover {\n",
              "      background-color: #434B5C;\n",
              "      box-shadow: 0px 1px 3px 1px rgba(0, 0, 0, 0.15);\n",
              "      filter: drop-shadow(0px 1px 2px rgba(0, 0, 0, 0.3));\n",
              "      fill: #FFFFFF;\n",
              "    }\n",
              "  </style>\n",
              "\n",
              "      <script>\n",
              "        const buttonEl =\n",
              "          document.querySelector('#df-78c8e826-bdb0-421c-ba22-23711e06c58e button.colab-df-convert');\n",
              "        buttonEl.style.display =\n",
              "          google.colab.kernel.accessAllowed ? 'block' : 'none';\n",
              "\n",
              "        async function convertToInteractive(key) {\n",
              "          const element = document.querySelector('#df-78c8e826-bdb0-421c-ba22-23711e06c58e');\n",
              "          const dataTable =\n",
              "            await google.colab.kernel.invokeFunction('convertToInteractive',\n",
              "                                                     [key], {});\n",
              "          if (!dataTable) return;\n",
              "\n",
              "          const docLinkHtml = 'Like what you see? Visit the ' +\n",
              "            '<a target=\"_blank\" href=https://colab.research.google.com/notebooks/data_table.ipynb>data table notebook</a>'\n",
              "            + ' to learn more about interactive tables.';\n",
              "          element.innerHTML = '';\n",
              "          dataTable['output_type'] = 'display_data';\n",
              "          await google.colab.output.renderOutput(dataTable, element);\n",
              "          const docLink = document.createElement('div');\n",
              "          docLink.innerHTML = docLinkHtml;\n",
              "          element.appendChild(docLink);\n",
              "        }\n",
              "      </script>\n",
              "    </div>\n",
              "  </div>\n",
              "  "
            ]
          },
          "metadata": {},
          "execution_count": 21
        }
      ]
    },
    {
      "cell_type": "code",
      "source": [
        "fig = plt.figure(figsize = (10, 5))\n",
        "sing_vals = np.arange(10) + 1\n",
        "plt.plot(sing_vals, pca.explained_variance_ratio_, \n",
        "         'ro-', linewidth = 3)\n",
        "plt.title('Scree Plot')\n",
        "plt.xlabel('Principal Component')\n",
        "plt.ylabel('Propotion of Variance')"
      ],
      "metadata": {
        "colab": {
          "base_uri": "https://localhost:8080/",
          "height": 368
        },
        "id": "ZE3A30SBw2rg",
        "outputId": "46ffbffb-685f-4c6a-d608-aca1beb84a30"
      },
      "execution_count": 22,
      "outputs": [
        {
          "output_type": "execute_result",
          "data": {
            "text/plain": [
              "Text(0, 0.5, 'Propotion of Variance')"
            ]
          },
          "metadata": {},
          "execution_count": 22
        },
        {
          "output_type": "display_data",
          "data": {
            "text/plain": [
              "<Figure size 720x360 with 1 Axes>"
            ],
            "image/png": "[encoded data removed]"
          },
          "metadata": {
            "needs_background": "light"
          }
        }
      ]
    },
    {
      "cell_type": "markdown",
      "source": [
        "# 3-(b)"
      ],
      "metadata": {
        "id": "Jv3kqy2lw-ST"
      }
    },
    {
      "cell_type": "code",
      "source": [
        "y_diabetes.head()"
      ],
      "metadata": {
        "colab": {
          "base_uri": "https://localhost:8080/"
        },
        "id": "c5sch4Cmxg6D",
        "outputId": "37881a28-28dd-4fd9-b3d4-d747e7e63238"
      },
      "execution_count": 23,
      "outputs": [
        {
          "output_type": "execute_result",
          "data": {
            "text/plain": [
              "0    151.0\n",
              "1     75.0\n",
              "2    141.0\n",
              "3    206.0\n",
              "4    135.0\n",
              "Name: target, dtype: float64"
            ]
          },
          "metadata": {},
          "execution_count": 23
        }
      ]
    },
    {
      "cell_type": "code",
      "source": [
        "pca_diabetes = pd.concat([y_diabetes, pca_x[['pc1', 'pc2', 'pc3', 'pc4', 'pc5']]], axis=1)\n",
        "## 선형모형 적합\n",
        "pcalmfit = smf.ols(formula='target ~ pc1+pc2+pc3+pc4+pc5', data= pca_diabetes).fit()\n",
        "print(pcalmfit.summary())"
      ],
      "metadata": {
        "colab": {
          "base_uri": "https://localhost:8080/"
        },
        "id": "d8Wdmv2Xw9O1",
        "outputId": "eecf1006-5d8e-4724-deb7-08dda113a403"
      },
      "execution_count": 24,
      "outputs": [
        {
          "output_type": "stream",
          "name": "stdout",
          "text": [
            "                            OLS Regression Results                            \n",
            "==============================================================================\n",
            "Dep. Variable:                 target   R-squared:                       0.500\n",
            "Model:                            OLS   Adj. R-squared:                  0.495\n",
            "Method:                 Least Squares   F-statistic:                     87.33\n",
            "Date:                Wed, 26 Oct 2022   Prob (F-statistic):           1.75e-63\n",
            "Time:                        00:52:56   Log-Likelihood:                -2393.8\n",
            "No. Observations:                 442   AIC:                             4800.\n",
            "Df Residuals:                     436   BIC:                             4824.\n",
            "Df Model:                           5                                         \n",
            "Covariance Type:            nonrobust                                         \n",
            "==============================================================================\n",
            "                 coef    std err          t      P>|t|      [0.025      0.975]\n",
            "------------------------------------------------------------------------------\n",
            "Intercept    152.1335      2.607     58.361      0.000     147.010     157.257\n",
            "pc1           21.3426      1.301     16.406      0.000      18.786      23.899\n",
            "pc2          -12.2261      2.136     -5.723      0.000     -16.425      -8.027\n",
            "pc3           11.3450      2.376      4.774      0.000       6.674      16.016\n",
            "pc4           28.2430      2.670     10.579      0.000      22.996      33.490\n",
            "pc5           -0.7939      3.207     -0.248      0.805      -7.097       5.509\n",
            "==============================================================================\n",
            "Omnibus:                        4.306   Durbin-Watson:                   1.949\n",
            "Prob(Omnibus):                  0.116   Jarque-Bera (JB):                3.142\n",
            "Skew:                           0.045   Prob(JB):                        0.208\n",
            "Kurtosis:                       2.597   Cond. No.                         2.47\n",
            "==============================================================================\n",
            "\n",
            "Notes:\n",
            "[1] Standard Errors assume that the covariance matrix of the errors is correctly specified.\n"
          ]
        }
      ]
    },
    {
      "cell_type": "markdown",
      "source": [
        "target = 152.1335 + 21.3426pc1 -12.2261pc2 + 11.3450pc3 + 28.2430pc4 -0.7939pc5"
      ],
      "metadata": {
        "id": "73N5dMxpx0rF"
      }
    },
    {
      "cell_type": "markdown",
      "source": [
        "# 5-(a)"
      ],
      "metadata": {
        "id": "fv-cTyX1yQm1"
      }
    },
    {
      "cell_type": "code",
      "source": [
        "import os\n",
        "import numpy as np\n",
        "import pandas as pd\n",
        "import time  \n",
        "from sklearn.model_selection import train_test_split\n",
        "from sklearn.linear_model import LogisticRegression\n",
        "from sklearn.metrics import confusion_matrix   #오차행렬"
      ],
      "metadata": {
        "id": "O_PwYWK31oOO"
      },
      "execution_count": 50,
      "outputs": []
    },
    {
      "cell_type": "code",
      "source": [
        "## the import load_breast_cancer function\n",
        "from sklearn.datasets import load_breast_cancer\n",
        "## load the data\n",
        "cancer = load_breast_cancer(as_frame=True)\n",
        "## split the data into two parts: x and y\n",
        "x_cancer = cancer.data\n",
        "y_cancer = cancer.target"
      ],
      "metadata": {
        "id": "sr88B-bkyK65"
      },
      "execution_count": 25,
      "outputs": []
    },
    {
      "cell_type": "code",
      "source": [
        "train_x_cancer = x_cancer.iloc[0:400,:]\n",
        "test_x_cancer = x_cancer.iloc[400:,:]\n",
        "\n",
        "train_y_cancer = y_cancer.iloc[0:400]\n",
        "test_y_cancer = y_cancer.iloc[400:]"
      ],
      "metadata": {
        "id": "_N1TqawsyehO"
      },
      "execution_count": 43,
      "outputs": []
    },
    {
      "cell_type": "code",
      "source": [
        "print(x_cancer.shape)\n",
        "print(train_x_cancer.shape)\n",
        "print(train_y_cancer.shape)\n",
        "print(test_x_cancer.shape)\n",
        "print(test_y_cancer.shape)"
      ],
      "metadata": {
        "colab": {
          "base_uri": "https://localhost:8080/"
        },
        "id": "-HJPsr5MzM7K",
        "outputId": "ab1a7923-1f37-4d6d-8b7e-e54cc39b6ce7"
      },
      "execution_count": 53,
      "outputs": [
        {
          "output_type": "stream",
          "name": "stdout",
          "text": [
            "(569, 30)\n",
            "(400, 30)\n",
            "(400,)\n",
            "(169, 30)\n",
            "(169,)\n"
          ]
        }
      ]
    },
    {
      "cell_type": "code",
      "source": [
        "logistic = LogisticRegression(penalty='none')\n",
        "logistic.fit(train_x_cancer, train_y_cancer)"
      ],
      "metadata": {
        "colab": {
          "base_uri": "https://localhost:8080/"
        },
        "id": "GR9-aZAJ0TNZ",
        "outputId": "a57b988b-f7ca-46ef-8730-a6aedc7940cb"
      },
      "execution_count": 64,
      "outputs": [
        {
          "output_type": "stream",
          "name": "stderr",
          "text": [
            "/usr/local/lib/python3.7/dist-packages/sklearn/linear_model/_logistic.py:818: ConvergenceWarning: lbfgs failed to converge (status=1):\n",
            "STOP: TOTAL NO. of ITERATIONS REACHED LIMIT.\n",
            "\n",
            "Increase the number of iterations (max_iter) or scale the data as shown in:\n",
            "    https://scikit-learn.org/stable/modules/preprocessing.html\n",
            "Please also refer to the documentation for alternative solver options:\n",
            "    https://scikit-learn.org/stable/modules/linear_model.html#logistic-regression\n",
            "  extra_warning_msg=_LOGISTIC_SOLVER_CONVERGENCE_MSG,\n"
          ]
        },
        {
          "output_type": "execute_result",
          "data": {
            "text/plain": [
              "LogisticRegression(penalty='none')"
            ]
          },
          "metadata": {},
          "execution_count": 64
        }
      ]
    },
    {
      "cell_type": "code",
      "source": [
        "print(logistic.intercept_)\n",
        "print(logistic.coef_)"
      ],
      "metadata": {
        "colab": {
          "base_uri": "https://localhost:8080/"
        },
        "id": "Uucgo1Cn101P",
        "outputId": "5e36d8ef-0ee7-499a-80c1-e7be68dd3021"
      },
      "execution_count": 65,
      "outputs": [
        {
          "output_type": "stream",
          "name": "stdout",
          "text": [
            "[0.44330449]\n",
            "[[ 2.44992216  0.35194594  0.05243698 -0.01151286 -0.09567078 -0.45825277\n",
            "  -0.59958369 -0.26306172 -0.12865214 -0.03115407  0.09819818  1.10197444\n",
            "   0.61914037 -0.17613648 -0.00892697 -0.09582444 -0.12270905 -0.03301484\n",
            "  -0.04491359 -0.00819708  2.56629291 -0.62673228 -0.39362608 -0.0236393\n",
            "  -0.17036701 -1.46649734 -1.72927545 -0.51674901 -0.4652119  -0.14773092]]\n"
          ]
        }
      ]
    },
    {
      "cell_type": "markdown",
      "source": [
        "# 5 - (b)"
      ],
      "metadata": {
        "id": "YV-7otKA19A3"
      }
    },
    {
      "cell_type": "code",
      "source": [
        "import sklearn.metrics"
      ],
      "metadata": {
        "id": "0zaB5kzH2smm"
      },
      "execution_count": 57,
      "outputs": []
    },
    {
      "cell_type": "code",
      "source": [
        "test_prob = logistic.predict_proba(test_x_cancer)[:,1]                       # [0일 확률. 1일 확률] 증 y가 1일 추정확률값 = score 만 뽑음             /// predict_log_prob\n",
        "cut_off = 0.4\n",
        "test_y_pred = np.array((test_prob > cut_off)).astype(dtype='int')            # cut off보다 크면, true = 1 / 작으면 0\n",
        "\n",
        "print(sklearn.metrics.confusion_matrix(test_y_cancer, test_y_pred))          # 오차행렬\n",
        "\n",
        "print('정분류율: ', (test_y_pred==test_y_cancer).mean())  \n",
        "print('정밀도: ', sklearn.metrics.precision_score(test_y_cancer, test_y_pred))                      \n",
        "print('민감도: ', sklearn.metrics.recall_score(test_y_cancer, test_y_pred))  \n",
        "print('특이도: ', sklearn.metrics.recall_score(test_y_cancer, test_y_pred, pos_label=0))\n",
        "print('f1_score: ', sklearn.metrics.f1_score(test_y_cancer, test_y_pred))"
      ],
      "metadata": {
        "colab": {
          "base_uri": "https://localhost:8080/"
        },
        "id": "xxBZslMZ18Rx",
        "outputId": "ce21fee6-90a5-4b67-8d7d-1c32ad61853d"
      },
      "execution_count": 66,
      "outputs": [
        {
          "output_type": "stream",
          "name": "stdout",
          "text": [
            "[[ 39   0]\n",
            " [  9 121]]\n",
            "정분류율:  0.9467455621301775\n",
            "정밀도:  1.0\n",
            "민감도:  0.9307692307692308\n",
            "특이도:  1.0\n",
            "f1_score:  0.9641434262948207\n"
          ]
        }
      ]
    },
    {
      "cell_type": "markdown",
      "source": [
        "# 5 - (c)"
      ],
      "metadata": {
        "id": "3dOR3qYp5Cs8"
      }
    },
    {
      "cell_type": "code",
      "source": [
        "fpr, tpr, _ = sklearn.metrics.roc_curve(test_y_cancer, test_prob)\n",
        "roc_display = sklearn.metrics.RocCurveDisplay(fpr=fpr, tpr=tpr).plot()\n",
        "print(' ROC-AUC값 : ', sklearn.metrics.auc(fpr, tpr))"
      ],
      "metadata": {
        "colab": {
          "base_uri": "https://localhost:8080/",
          "height": 297
        },
        "id": "nAEfps4120RG",
        "outputId": "22b0efe5-ebf8-4704-a25d-72a821a36b45"
      },
      "execution_count": 69,
      "outputs": [
        {
          "output_type": "stream",
          "name": "stdout",
          "text": [
            " ROC-AUC값 :  0.9964497041420118\n"
          ]
        },
        {
          "output_type": "display_data",
          "data": {
            "text/plain": [
              "<Figure size 432x288 with 1 Axes>"
            ],
            "image/png": "[encoded data removed]"
          },
          "metadata": {
            "needs_background": "light"
          }
        }
      ]
    },
    {
      "cell_type": "markdown",
      "source": [
        "- ROC-AUC값 :  0.9964497041420118"
      ],
      "metadata": {
        "id": "0WO0IRe07-7l"
      }
    },
    {
      "cell_type": "code",
      "source": [],
      "metadata": {
        "id": "hYuowKWy545T"
      },
      "execution_count": null,
      "outputs": []
    }
  ]
}