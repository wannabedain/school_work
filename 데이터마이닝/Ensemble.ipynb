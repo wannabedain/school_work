{
  "cells": [
    {
      "cell_type": "markdown",
      "metadata": {
        "id": "0tRwkuLO8_4k"
      },
      "source": [
        "# ▒ 앙상블 ▒"
      ]
    },
    {
      "cell_type": "markdown",
      "metadata": {
        "id": "vva8-hID8_4l"
      },
      "source": [
        "## 0. 환경설정"
      ]
    },
    {
      "cell_type": "code",
      "execution_count": 1,
      "metadata": {
        "id": "hThmMB788_4l"
      },
      "outputs": [],
      "source": [
        "import pandas as pd\n",
        "import numpy as np\n",
        "import os\n",
        "from sklearn.datasets import load_boston\n",
        "from sklearn.model_selection import train_test_split\n",
        "\n",
        "from sklearn.metrics import confusion_matrix\n",
        "#from sklearn.tree import DecisionTreeClassifier\n",
        "from sklearn.tree import DecisionTreeRegressor\n",
        "#from sklearn.ensemble import RandomForestClassifier\n",
        "from sklearn.ensemble import RandomForestRegressor\n",
        "#from sklearn.ensemble import BaggingClassifier\n",
        "from sklearn.ensemble import BaggingRegressor\n",
        "#from sklearn.ensemble import GradientBoostingClassifier\n",
        "from sklearn.ensemble import GradientBoostingRegressor\n",
        "\n",
        "import matplotlib.pyplot as plt"
      ]
    },
    {
      "cell_type": "markdown",
      "metadata": {
        "id": "JAV19e9n8_4m"
      },
      "source": [
        "## 1. 데이터 불러오기"
      ]
    },
    {
      "cell_type": "markdown",
      "metadata": {
        "id": "fiqrdAca8_4m"
      },
      "source": [
        "### Boston Housing Dataset\n",
        "\n",
        "- 보스턴 주택 가격 데이터\n",
        "- 1978년에 발표된 데이터로 미국 보스턴 지역의 주택 가격에 영향을 미치는 요소들을 정리\n",
        "- 총 13가지의 요소들과 주택 가격으로 이루어져 있음."
      ]
    },
    {
      "cell_type": "markdown",
      "metadata": {
        "id": "meiQqwSX8_4m"
      },
      "source": [
        "### 데이터 호출"
      ]
    },
    {
      "cell_type": "code",
      "execution_count": 2,
      "metadata": {
        "colab": {
          "base_uri": "https://localhost:8080/"
        },
        "id": "rLZH8ZD68_4m",
        "outputId": "f3aa854b-cc6e-48dd-9471-60259be3f9c3"
      },
      "outputs": [
        {
          "output_type": "stream",
          "name": "stderr",
          "text": [
            "/usr/local/lib/python3.7/dist-packages/sklearn/utils/deprecation.py:87: FutureWarning: Function load_boston is deprecated; `load_boston` is deprecated in 1.0 and will be removed in 1.2.\n",
            "\n",
            "    The Boston housing prices dataset has an ethical problem. You can refer to\n",
            "    the documentation of this function for further details.\n",
            "\n",
            "    The scikit-learn maintainers therefore strongly discourage the use of this\n",
            "    dataset unless the purpose of the code is to study and educate about\n",
            "    ethical issues in data science and machine learning.\n",
            "\n",
            "    In this special case, you can fetch the dataset from the original\n",
            "    source::\n",
            "\n",
            "        import pandas as pd\n",
            "        import numpy as np\n",
            "\n",
            "\n",
            "        data_url = \"http://lib.stat.cmu.edu/datasets/boston\"\n",
            "        raw_df = pd.read_csv(data_url, sep=\"\\s+\", skiprows=22, header=None)\n",
            "        data = np.hstack([raw_df.values[::2, :], raw_df.values[1::2, :2]])\n",
            "        target = raw_df.values[1::2, 2]\n",
            "\n",
            "    Alternative datasets include the California housing dataset (i.e.\n",
            "    :func:`~sklearn.datasets.fetch_california_housing`) and the Ames housing\n",
            "    dataset. You can load the datasets as follows::\n",
            "\n",
            "        from sklearn.datasets import fetch_california_housing\n",
            "        housing = fetch_california_housing()\n",
            "\n",
            "    for the California housing dataset and::\n",
            "\n",
            "        from sklearn.datasets import fetch_openml\n",
            "        housing = fetch_openml(name=\"house_prices\", as_frame=True)\n",
            "\n",
            "    for the Ames housing dataset.\n",
            "    \n",
            "  warnings.warn(msg, category=FutureWarning)\n"
          ]
        }
      ],
      "source": [
        "boston = load_boston()\n",
        "\n",
        "X_boston = pd.DataFrame(boston.data, columns=boston.feature_names)\n",
        "y_boston = pd.DataFrame(boston.target, columns=['MEDV']).iloc[:,0]"
      ]
    },
    {
      "cell_type": "markdown",
      "metadata": {
        "id": "2txDGL-S8_4m"
      },
      "source": [
        "### 데이터 분할\n",
        "- Training set 70%, Test set 30% 무작위 추출을 이용하여 나누기\n"
      ]
    },
    {
      "cell_type": "code",
      "execution_count": 3,
      "metadata": {
        "id": "harR4HhT8_4n"
      },
      "outputs": [],
      "source": [
        "X_train, X_test, y_train, y_test = \\\n",
        "train_test_split(X_boston, y_boston, \n",
        "                 test_size = 0.3, random_state=123)"
      ]
    },
    {
      "cell_type": "markdown",
      "metadata": {
        "id": "p4mrHmiI8_4n"
      },
      "source": [
        "## 2. 앙상블"
      ]
    },
    {
      "cell_type": "markdown",
      "metadata": {
        "id": "517_S_th8_4n"
      },
      "source": [
        "### 2.0 Decision Tree"
      ]
    },
    {
      "cell_type": "code",
      "execution_count": 4,
      "metadata": {
        "id": "N-KIxnbl8_4n"
      },
      "outputs": [],
      "source": [
        "tree = DecisionTreeRegressor(max_depth = 5,\n",
        "                             random_state = 0)\n",
        "tree.fit = tree.fit(X_train, y_train)"
      ]
    },
    {
      "cell_type": "markdown",
      "metadata": {
        "id": "KdRizbzK8_4n"
      },
      "source": [
        "### 예측"
      ]
    },
    {
      "cell_type": "code",
      "execution_count": 5,
      "metadata": {
        "colab": {
          "base_uri": "https://localhost:8080/"
        },
        "id": "HGCvQlhe8_4n",
        "outputId": "f3fc5356-b004-4a38-eec9-cbb24ad69258"
      },
      "outputs": [
        {
          "output_type": "stream",
          "name": "stdout",
          "text": [
            "17.602204873990754\n"
          ]
        }
      ],
      "source": [
        "tree_pred = tree.predict(X_test)\n",
        "print((y_test-tree_pred).pow(2).mean())"
      ]
    },
    {
      "cell_type": "markdown",
      "metadata": {
        "id": "C-2COrm-8_4o"
      },
      "source": [
        "### 2.1 Bagging"
      ]
    },
    {
      "cell_type": "markdown",
      "metadata": {
        "id": "0FzvT3Wt8_4o"
      },
      "source": [
        "### 모형적합\n",
        "- n_estimators : bootstrap의 개수 (bootstrap의 개수는 충분히 크게 하는것이 좋다.)"
      ]
    },
    {
      "cell_type": "code",
      "execution_count": 6,
      "metadata": {
        "colab": {
          "base_uri": "https://localhost:8080/"
        },
        "id": "O_pD5xbo8_4o",
        "outputId": "d0194b7e-50dc-40df-a67c-ba1547a6bd4f"
      },
      "outputs": [
        {
          "output_type": "execute_result",
          "data": {
            "text/plain": [
              "BaggingRegressor(base_estimator=DecisionTreeRegressor(), max_samples=0.8,\n",
              "                 n_estimators=1000, random_state=1)"
            ]
          },
          "metadata": {},
          "execution_count": 6
        }
      ],
      "source": [
        "tree = DecisionTreeRegressor()\n",
        "bag_model = BaggingRegressor(tree, n_estimators=1000, \n",
        "                             max_samples=0.8, random_state=1)\n",
        "bag_model.fit(X_train, y_train)"
      ]
    },
    {
      "cell_type": "markdown",
      "metadata": {
        "id": "_xlJ1TB18_4o"
      },
      "source": [
        "### 예측"
      ]
    },
    {
      "cell_type": "code",
      "execution_count": 7,
      "metadata": {
        "colab": {
          "base_uri": "https://localhost:8080/"
        },
        "id": "VAcJIOAt8_4o",
        "outputId": "075bf4e1-5ebb-439b-eb06-1f64430d5a7a"
      },
      "outputs": [
        {
          "output_type": "stream",
          "name": "stdout",
          "text": [
            "14.551381714144748\n"
          ]
        }
      ],
      "source": [
        "bag_pred = bag_model.predict(X_test)\n",
        "print((y_test-bag_pred).pow(2).mean())"
      ]
    },
    {
      "cell_type": "markdown",
      "metadata": {
        "id": "TlHMH-1r8_4o"
      },
      "source": [
        "### 2.2 Random Forest"
      ]
    },
    {
      "cell_type": "markdown",
      "metadata": {
        "id": "ffrN8_mu8_4o"
      },
      "source": [
        "### 모형적합"
      ]
    },
    {
      "cell_type": "code",
      "execution_count": 8,
      "metadata": {
        "colab": {
          "base_uri": "https://localhost:8080/"
        },
        "id": "erdEq8YE8_4o",
        "outputId": "85a5ded7-86a1-4a42-d8cb-8f0b0f1b9329"
      },
      "outputs": [
        {
          "output_type": "execute_result",
          "data": {
            "text/plain": [
              "RandomForestRegressor(max_features=3, min_samples_leaf=3, n_estimators=1000)"
            ]
          },
          "metadata": {},
          "execution_count": 8
        }
      ],
      "source": [
        "rf_model = RandomForestRegressor(n_estimators = 1000,\n",
        "                                  max_features = 3,\n",
        "                                  min_samples_leaf = 3)\n",
        "rf_model.fit(X_train, y_train)"
      ]
    },
    {
      "cell_type": "markdown",
      "metadata": {
        "id": "M4gYXcgi8_4p"
      },
      "source": [
        "### 예측"
      ]
    },
    {
      "cell_type": "code",
      "execution_count": 9,
      "metadata": {
        "colab": {
          "base_uri": "https://localhost:8080/"
        },
        "id": "4pPuBIUG8_4p",
        "outputId": "b3ce9707-69e0-4302-bfdd-6750af39a781"
      },
      "outputs": [
        {
          "output_type": "stream",
          "name": "stdout",
          "text": [
            "16.495467454916525\n"
          ]
        }
      ],
      "source": [
        "rf_pred = rf_model.predict(X_test)\n",
        "print((y_test-rf_pred).pow(2).mean())"
      ]
    },
    {
      "cell_type": "markdown",
      "source": [
        "### 2.3 Boosting"
      ],
      "metadata": {
        "id": "m6qABfUA9oF4"
      }
    },
    {
      "cell_type": "markdown",
      "source": [
        "### 모형적합"
      ],
      "metadata": {
        "id": "obAw09E1903Y"
      }
    },
    {
      "cell_type": "code",
      "source": [
        "gbm_model = GradientBoostingRegressor(n_estimators = 1000,\n",
        "                                      max_depth = 3)\n",
        "gbm_model.fit(X_train, y_train)"
      ],
      "metadata": {
        "colab": {
          "base_uri": "https://localhost:8080/"
        },
        "id": "tVCznpkf93vT",
        "outputId": "c1e48014-e59a-4b28-f555-1ae42180a885"
      },
      "execution_count": 10,
      "outputs": [
        {
          "output_type": "execute_result",
          "data": {
            "text/plain": [
              "GradientBoostingRegressor(n_estimators=1000)"
            ]
          },
          "metadata": {},
          "execution_count": 10
        }
      ]
    },
    {
      "cell_type": "markdown",
      "source": [
        "### 예측"
      ],
      "metadata": {
        "id": "sYUxX0Q898Hg"
      }
    },
    {
      "cell_type": "code",
      "source": [
        "gbm_pred = gbm_model.predict(X_test)\n",
        "print((y_test-gbm_pred).pow(2).mean())"
      ],
      "metadata": {
        "colab": {
          "base_uri": "https://localhost:8080/"
        },
        "id": "825krgGH97Xs",
        "outputId": "68ff2d6a-57c1-4df5-c18b-e5b2273e0669"
      },
      "execution_count": 11,
      "outputs": [
        {
          "output_type": "stream",
          "name": "stdout",
          "text": [
            "13.29322921553449\n"
          ]
        }
      ]
    },
    {
      "cell_type": "markdown",
      "metadata": {
        "id": "7GJGaD9v8_4p"
      },
      "source": [
        "### Partial Dependence Plot"
      ]
    },
    {
      "cell_type": "code",
      "execution_count": 12,
      "metadata": {
        "colab": {
          "base_uri": "https://localhost:8080/",
          "height": 351
        },
        "id": "0Gu6dwau8_4p",
        "outputId": "22359e7b-d4ef-468a-8189-30dba506a732"
      },
      "outputs": [
        {
          "output_type": "stream",
          "name": "stderr",
          "text": [
            "/usr/local/lib/python3.7/dist-packages/sklearn/utils/deprecation.py:87: FutureWarning: Function plot_partial_dependence is deprecated; Function `plot_partial_dependence` is deprecated in 1.0 and will be removed in 1.2. Use PartialDependenceDisplay.from_estimator instead\n",
            "  warnings.warn(msg, category=FutureWarning)\n"
          ]
        },
        {
          "output_type": "display_data",
          "data": {
            "text/plain": [
              "<Figure size 576x288 with 3 Axes>"
            ],
            "image/png": "[encoded data removed]"
          },
          "metadata": {
            "needs_background": "light"
          }
        }
      ],
      "source": [
        "from sklearn.inspection import plot_partial_dependence\n",
        "fig, ax = plt.subplots(figsize=(8, 4))\n",
        "ax.set_title(\"Random forest\", fontsize=12)\n",
        "tree_disp = plot_partial_dependence(rf_model, X_train, [\"RM\",\"LSTAT\"], ax=ax)"
      ]
    },
    {
      "cell_type": "markdown",
      "metadata": {
        "id": "FSUqbDGq8_4p"
      },
      "source": [
        "### Variable Importance Plot"
      ]
    },
    {
      "cell_type": "code",
      "execution_count": 13,
      "metadata": {
        "colab": {
          "base_uri": "https://localhost:8080/",
          "height": 295
        },
        "id": "WKN4EGQa8_4p",
        "outputId": "3fa388c1-7f29-4f74-ee0d-936645ca2aff"
      },
      "outputs": [
        {
          "output_type": "display_data",
          "data": {
            "text/plain": [
              "<Figure size 432x288 with 1 Axes>"
            ],
            "image/png": "[encoded data removed]"
          },
          "metadata": {
            "needs_background": "light"
          }
        }
      ],
      "source": [
        "importances = rf_model.feature_importances_\n",
        "indices = np.argsort(importances)\n",
        "\n",
        "plt.title('Feature Importances')\n",
        "plt.barh(range(len(indices)), importances[indices], color='b', align='center')\n",
        "plt.yticks(range(len(indices)), [boston.feature_names[i] for i in indices])\n",
        "plt.xlabel('Relative Importance')\n",
        "plt.show()"
      ]
    },
    {
      "cell_type": "code",
      "execution_count": null,
      "metadata": {
        "id": "cF9htjgJ8_4p",
        "outputId": "930151f2-bbab-4df4-df6d-b88283903a9a"
      },
      "outputs": [
        {
          "name": "stdout",
          "output_type": "stream",
          "text": [
            "The scikit-learn version is 0.24.2.\n"
          ]
        }
      ],
      "source": [
        "import sklearn\n",
        "print('The scikit-learn version is {}.'.format(sklearn.__version__))"
      ]
    }
  ],
  "metadata": {
    "kernelspec": {
      "display_name": "Python 3.6",
      "language": "python",
      "name": "python3.6"
    },
    "language_info": {
      "codemirror_mode": {
        "name": "ipython",
        "version": 3
      },
      "file_extension": ".py",
      "mimetype": "text/x-python",
      "name": "python",
      "nbconvert_exporter": "python",
      "pygments_lexer": "ipython3",
      "version": "3.6.12"
    },
    "colab": {
      "provenance": []
    }
  },
  "nbformat": 4,
  "nbformat_minor": 0
}